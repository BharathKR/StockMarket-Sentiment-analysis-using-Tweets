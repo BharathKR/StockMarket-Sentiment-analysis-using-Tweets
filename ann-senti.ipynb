{
 "cells": [
  {
   "cell_type": "code",
   "execution_count": 1,
   "metadata": {},
   "outputs": [
    {
     "name": "stdout",
     "output_type": "stream",
     "text": [
      "/kaggle/input/train-merged-data/train_merged_ANN.csv\n",
      "/kaggle/input/data-added-on-dec25/json_train_senti25.csv\n",
      "/kaggle/input/data-added-on-dec25/test_data_merged_25.csv\n"
     ]
    }
   ],
   "source": [
    "## This Python 3 environment comes with many helpful analytics libraries installed\n",
    "# It is defined by the kaggle/python docker image: https://github.com/kaggle/docker-python\n",
    "# For example, here's several helpful packages to load in \n",
    "\n",
    "import numpy as np # linear algebra\n",
    "import pandas as pd # data processing, CSV file I/O (e.g. pd.read_csv)\n",
    "\n",
    "# Input data files are available in the \"../input/\" directory.\n",
    "# For example, running this (by clicking run or pressing Shift+Enter) will list all files under the input directory\n",
    "\n",
    "import os\n",
    "for dirname, _, filenames in os.walk('/kaggle/input'):\n",
    "    for filename in filenames:\n",
    "        print(os.path.join(dirname, filename))\n",
    "\n",
    "# Any results you write to the current directory are saved as output."
   ]
  },
  {
   "cell_type": "markdown",
   "metadata": {},
   "source": [
    "## Synopsis\n",
    "* Loading the final merged file from test and train data\n",
    "* Building a ANN"
   ]
  },
  {
   "cell_type": "code",
   "execution_count": 2,
   "metadata": {},
   "outputs": [],
   "source": [
    "\n",
    "from sklearn import preprocessing\n",
    "from sklearn.impute import SimpleImputer\n",
    "\n",
    "from sklearn.compose import ColumnTransformer\n",
    "\n",
    "from sklearn.preprocessing import StandardScaler\n",
    "from sklearn.preprocessing import OneHotEncoder\n",
    "from sklearn.model_selection import train_test_split\n",
    "from sklearn.pipeline import Pipeline\n",
    "from sklearn.model_selection import GridSearchCV, cross_val_score, StratifiedKFold\n",
    "\n",
    "from sklearn.tree import DecisionTreeClassifier\n",
    "from sklearn.ensemble import RandomForestClassifier\n",
    "from sklearn.svm import SVC\n",
    "from sklearn.linear_model import LogisticRegression\n",
    "from xgboost import XGBClassifier\n",
    "\n",
    "from sklearn.metrics import confusion_matrix\n",
    "\n",
    "from sklearn.metrics import accuracy_score, recall_score, precision_score,f1_score"
   ]
  },
  {
   "cell_type": "code",
   "execution_count": 3,
   "metadata": {
    "_cell_guid": "79c7e3d0-c299-4dcb-8224-4455121ee9b0",
    "_uuid": "d629ff2d2480ee46fbb7e2d37f6b5fab8052498a"
   },
   "outputs": [
    {
     "data": {
      "text/html": [
       "<div>\n",
       "<style scoped>\n",
       "    .dataframe tbody tr th:only-of-type {\n",
       "        vertical-align: middle;\n",
       "    }\n",
       "\n",
       "    .dataframe tbody tr th {\n",
       "        vertical-align: top;\n",
       "    }\n",
       "\n",
       "    .dataframe thead th {\n",
       "        text-align: right;\n",
       "    }\n",
       "</style>\n",
       "<table border=\"1\" class=\"dataframe\">\n",
       "  <thead>\n",
       "    <tr style=\"text-align: right;\">\n",
       "      <th></th>\n",
       "      <th>Id</th>\n",
       "      <th>date</th>\n",
       "      <th>ticker</th>\n",
       "      <th>SF1</th>\n",
       "      <th>SF2</th>\n",
       "      <th>SF3</th>\n",
       "      <th>SF4</th>\n",
       "      <th>SF5</th>\n",
       "      <th>SF6</th>\n",
       "      <th>SF7</th>\n",
       "      <th>...</th>\n",
       "      <th>tweeted_day_of_week</th>\n",
       "      <th>tweet_month</th>\n",
       "      <th>senti_0</th>\n",
       "      <th>senti_1</th>\n",
       "      <th>senti_2</th>\n",
       "      <th>senti_3</th>\n",
       "      <th>senti_4</th>\n",
       "      <th>word_count</th>\n",
       "      <th>senti_train</th>\n",
       "      <th>Senti_blob</th>\n",
       "    </tr>\n",
       "  </thead>\n",
       "  <tbody>\n",
       "    <tr>\n",
       "      <th>0</th>\n",
       "      <td>1</td>\n",
       "      <td>2018-08-21</td>\n",
       "      <td>$NTAP</td>\n",
       "      <td>-0.628652</td>\n",
       "      <td>0.988891</td>\n",
       "      <td>-0.055714</td>\n",
       "      <td>0.774379</td>\n",
       "      <td>0.551089</td>\n",
       "      <td>-1.329229</td>\n",
       "      <td>-0.995539</td>\n",
       "      <td>...</td>\n",
       "      <td>Tuesday</td>\n",
       "      <td>August</td>\n",
       "      <td>0.0</td>\n",
       "      <td>3.0</td>\n",
       "      <td>7.0</td>\n",
       "      <td>2.0</td>\n",
       "      <td>1.0</td>\n",
       "      <td>100.0</td>\n",
       "      <td>2.0</td>\n",
       "      <td>negative</td>\n",
       "    </tr>\n",
       "    <tr>\n",
       "      <th>1</th>\n",
       "      <td>2</td>\n",
       "      <td>2018-10-11</td>\n",
       "      <td>$WYNN</td>\n",
       "      <td>1.315786</td>\n",
       "      <td>1.438754</td>\n",
       "      <td>0.187327</td>\n",
       "      <td>0.608933</td>\n",
       "      <td>-1.153030</td>\n",
       "      <td>1.859441</td>\n",
       "      <td>0.730995</td>\n",
       "      <td>...</td>\n",
       "      <td>Thursday</td>\n",
       "      <td>October</td>\n",
       "      <td>1.0</td>\n",
       "      <td>2.0</td>\n",
       "      <td>8.0</td>\n",
       "      <td>3.0</td>\n",
       "      <td>1.0</td>\n",
       "      <td>100.0</td>\n",
       "      <td>4.0</td>\n",
       "      <td>positive</td>\n",
       "    </tr>\n",
       "  </tbody>\n",
       "</table>\n",
       "<p>2 rows × 21 columns</p>\n",
       "</div>"
      ],
      "text/plain": [
       "   Id        date ticker       SF1       SF2       SF3       SF4       SF5  \\\n",
       "0   1  2018-08-21  $NTAP -0.628652  0.988891 -0.055714  0.774379  0.551089   \n",
       "1   2  2018-10-11  $WYNN  1.315786  1.438754  0.187327  0.608933 -1.153030   \n",
       "\n",
       "        SF6       SF7  ...  tweeted_day_of_week tweet_month senti_0  senti_1  \\\n",
       "0 -1.329229 -0.995539  ...              Tuesday      August     0.0      3.0   \n",
       "1  1.859441  0.730995  ...             Thursday     October     1.0      2.0   \n",
       "\n",
       "   senti_2  senti_3  senti_4  word_count  senti_train  Senti_blob  \n",
       "0      7.0      2.0      1.0       100.0          2.0    negative  \n",
       "1      8.0      3.0      1.0       100.0          4.0    positive  \n",
       "\n",
       "[2 rows x 21 columns]"
      ]
     },
     "execution_count": 3,
     "metadata": {},
     "output_type": "execute_result"
    }
   ],
   "source": [
    "train_final = pd.read_csv('/kaggle/input/train-merged-data/train_merged_ANN.csv',index_col=[0])\n",
    "train_final.head(2)"
   ]
  },
  {
   "cell_type": "code",
   "execution_count": 4,
   "metadata": {},
   "outputs": [],
   "source": [
    "train_final['date'] = pd.to_datetime(train_final['date'])"
   ]
  },
  {
   "cell_type": "markdown",
   "metadata": {},
   "source": [
    "## PCA"
   ]
  },
  {
   "cell_type": "code",
   "execution_count": 5,
   "metadata": {},
   "outputs": [],
   "source": [
    "from sklearn.decomposition import PCA\n",
    "\n",
    "pca = PCA(n_components=5)\n",
    "principalComponents = pca.fit_transform(train_final[['SF1','SF2','SF3','SF4','SF5','SF6','SF7']])"
   ]
  },
  {
   "cell_type": "code",
   "execution_count": 6,
   "metadata": {},
   "outputs": [],
   "source": [
    "principalDf = pd.DataFrame(data = principalComponents\n",
    "             , columns = ['pc1','pc2','pc3','pc4','pc5'])"
   ]
  },
  {
   "cell_type": "code",
   "execution_count": 7,
   "metadata": {},
   "outputs": [],
   "source": [
    "train_final = train_final.drop(['SF1','SF2','SF3','SF4','SF5','SF6','SF7'],axis=1)\n"
   ]
  },
  {
   "cell_type": "code",
   "execution_count": 8,
   "metadata": {},
   "outputs": [
    {
     "data": {
      "text/html": [
       "<div>\n",
       "<style scoped>\n",
       "    .dataframe tbody tr th:only-of-type {\n",
       "        vertical-align: middle;\n",
       "    }\n",
       "\n",
       "    .dataframe tbody tr th {\n",
       "        vertical-align: top;\n",
       "    }\n",
       "\n",
       "    .dataframe thead th {\n",
       "        text-align: right;\n",
       "    }\n",
       "</style>\n",
       "<table border=\"1\" class=\"dataframe\">\n",
       "  <thead>\n",
       "    <tr style=\"text-align: right;\">\n",
       "      <th></th>\n",
       "      <th>pc1</th>\n",
       "      <th>pc2</th>\n",
       "      <th>pc3</th>\n",
       "      <th>pc4</th>\n",
       "      <th>pc5</th>\n",
       "      <th>Id</th>\n",
       "      <th>date</th>\n",
       "      <th>ticker</th>\n",
       "      <th>alpha</th>\n",
       "      <th>tweeted_day_of_week</th>\n",
       "      <th>tweet_month</th>\n",
       "      <th>senti_0</th>\n",
       "      <th>senti_1</th>\n",
       "      <th>senti_2</th>\n",
       "      <th>senti_3</th>\n",
       "      <th>senti_4</th>\n",
       "      <th>word_count</th>\n",
       "      <th>senti_train</th>\n",
       "      <th>Senti_blob</th>\n",
       "    </tr>\n",
       "  </thead>\n",
       "  <tbody>\n",
       "    <tr>\n",
       "      <th>0</th>\n",
       "      <td>1.403016</td>\n",
       "      <td>-0.523298</td>\n",
       "      <td>1.650719</td>\n",
       "      <td>-0.131778</td>\n",
       "      <td>-0.405763</td>\n",
       "      <td>1</td>\n",
       "      <td>2018-08-21</td>\n",
       "      <td>$NTAP</td>\n",
       "      <td>2</td>\n",
       "      <td>Tuesday</td>\n",
       "      <td>August</td>\n",
       "      <td>0.0</td>\n",
       "      <td>3.0</td>\n",
       "      <td>7.0</td>\n",
       "      <td>2.0</td>\n",
       "      <td>1.0</td>\n",
       "      <td>100.0</td>\n",
       "      <td>2.0</td>\n",
       "      <td>negative</td>\n",
       "    </tr>\n",
       "    <tr>\n",
       "      <th>1</th>\n",
       "      <td>-0.655437</td>\n",
       "      <td>1.677647</td>\n",
       "      <td>-0.518593</td>\n",
       "      <td>2.367071</td>\n",
       "      <td>-0.706860</td>\n",
       "      <td>2</td>\n",
       "      <td>2018-10-11</td>\n",
       "      <td>$WYNN</td>\n",
       "      <td>3</td>\n",
       "      <td>Thursday</td>\n",
       "      <td>October</td>\n",
       "      <td>1.0</td>\n",
       "      <td>2.0</td>\n",
       "      <td>8.0</td>\n",
       "      <td>3.0</td>\n",
       "      <td>1.0</td>\n",
       "      <td>100.0</td>\n",
       "      <td>4.0</td>\n",
       "      <td>positive</td>\n",
       "    </tr>\n",
       "  </tbody>\n",
       "</table>\n",
       "</div>"
      ],
      "text/plain": [
       "        pc1       pc2       pc3       pc4       pc5  Id       date ticker  \\\n",
       "0  1.403016 -0.523298  1.650719 -0.131778 -0.405763   1 2018-08-21  $NTAP   \n",
       "1 -0.655437  1.677647 -0.518593  2.367071 -0.706860   2 2018-10-11  $WYNN   \n",
       "\n",
       "   alpha tweeted_day_of_week tweet_month  senti_0  senti_1  senti_2  senti_3  \\\n",
       "0      2             Tuesday      August      0.0      3.0      7.0      2.0   \n",
       "1      3            Thursday     October      1.0      2.0      8.0      3.0   \n",
       "\n",
       "   senti_4  word_count  senti_train Senti_blob  \n",
       "0      1.0       100.0          2.0   negative  \n",
       "1      1.0       100.0          4.0   positive  "
      ]
     },
     "execution_count": 8,
     "metadata": {},
     "output_type": "execute_result"
    }
   ],
   "source": [
    "train_final = pd.concat([principalDf, train_final], axis = 1)\n",
    "train_final.head(2)"
   ]
  },
  {
   "cell_type": "code",
   "execution_count": 9,
   "metadata": {},
   "outputs": [],
   "source": [
    "#Converting to respective data types\n",
    "for col in [ 'date','ticker', 'tweeted_day_of_week', 'tweet_month', 'senti_train','Senti_blob','senti_0','alpha',\n",
    "            'senti_1','senti_2','senti_3','senti_4','word_count']:\n",
    "    train_final[col] = train_final[col].astype('category')"
   ]
  },
  {
   "cell_type": "code",
   "execution_count": 10,
   "metadata": {},
   "outputs": [],
   "source": [
    "for col in ['pc1', 'pc2', 'pc3', 'pc4', 'pc5']:\n",
    "    train_final[col] = train_final[col].astype('float')"
   ]
  },
  {
   "cell_type": "code",
   "execution_count": 11,
   "metadata": {},
   "outputs": [],
   "source": [
    "train_final = train_final.drop(['Id','Senti_blob','date','ticker','tweet_month','word_count'],axis=1)"
   ]
  },
  {
   "cell_type": "code",
   "execution_count": 12,
   "metadata": {},
   "outputs": [],
   "source": [
    "X = train_final.drop([\"alpha\"], axis = 1)\n",
    "Y= train_final[\"alpha\"]"
   ]
  },
  {
   "cell_type": "code",
   "execution_count": 13,
   "metadata": {},
   "outputs": [
    {
     "name": "stdout",
     "output_type": "stream",
     "text": [
      "['alpha', 'tweeted_day_of_week', 'senti_0', 'senti_1', 'senti_2', 'senti_3', 'senti_4', 'senti_train']\n",
      "['pc1', 'pc2', 'pc3', 'pc4', 'pc5']\n"
     ]
    }
   ],
   "source": [
    "cat_attr = list(train_final.select_dtypes(\"category\").columns)\n",
    "num_attr = list(train_final.columns.difference(cat_attr))\n",
    "\n",
    "print(cat_attr)\n",
    "print(num_attr)\n",
    "cat_attr.remove('alpha')"
   ]
  },
  {
   "cell_type": "code",
   "execution_count": 14,
   "metadata": {},
   "outputs": [],
   "source": [
    "numeric_transformer = Pipeline(steps=[\n",
    "    ('imputer', SimpleImputer(strategy='median'))])\n",
    "\n",
    "categorical_transformer = Pipeline(steps=[\n",
    "    ('imputer', SimpleImputer(strategy='most_frequent')),\n",
    "    ('onehot', OneHotEncoder(handle_unknown='ignore'))])\n",
    "\n",
    "preprocessor = ColumnTransformer(\n",
    "    transformers=[\n",
    "        ('num', numeric_transformer, num_attr),\n",
    "        ('cat', categorical_transformer, cat_attr)])"
   ]
  },
  {
   "cell_type": "code",
   "execution_count": 15,
   "metadata": {},
   "outputs": [],
   "source": [
    "clf_nm = Pipeline(steps=[('preprocessor', preprocessor)])\n",
    "X_train = pd.DataFrame(clf_nm.fit_transform(X).todense())\n"
   ]
  },
  {
   "cell_type": "code",
   "execution_count": 16,
   "metadata": {},
   "outputs": [
    {
     "data": {
      "text/plain": [
       "(27006, 77)"
      ]
     },
     "execution_count": 16,
     "metadata": {},
     "output_type": "execute_result"
    }
   ],
   "source": [
    "X_train.shape"
   ]
  },
  {
   "cell_type": "code",
   "execution_count": 17,
   "metadata": {},
   "outputs": [
    {
     "data": {
      "text/html": [
       "<div>\n",
       "<style scoped>\n",
       "    .dataframe tbody tr th:only-of-type {\n",
       "        vertical-align: middle;\n",
       "    }\n",
       "\n",
       "    .dataframe tbody tr th {\n",
       "        vertical-align: top;\n",
       "    }\n",
       "\n",
       "    .dataframe thead th {\n",
       "        text-align: right;\n",
       "    }\n",
       "</style>\n",
       "<table border=\"1\" class=\"dataframe\">\n",
       "  <thead>\n",
       "    <tr style=\"text-align: right;\">\n",
       "      <th></th>\n",
       "      <th>0</th>\n",
       "      <th>1</th>\n",
       "      <th>2</th>\n",
       "      <th>3</th>\n",
       "      <th>4</th>\n",
       "      <th>5</th>\n",
       "      <th>6</th>\n",
       "      <th>7</th>\n",
       "      <th>8</th>\n",
       "      <th>9</th>\n",
       "      <th>...</th>\n",
       "      <th>67</th>\n",
       "      <th>68</th>\n",
       "      <th>69</th>\n",
       "      <th>70</th>\n",
       "      <th>71</th>\n",
       "      <th>72</th>\n",
       "      <th>73</th>\n",
       "      <th>74</th>\n",
       "      <th>75</th>\n",
       "      <th>76</th>\n",
       "    </tr>\n",
       "  </thead>\n",
       "  <tbody>\n",
       "    <tr>\n",
       "      <th>0</th>\n",
       "      <td>1.403016</td>\n",
       "      <td>-0.523298</td>\n",
       "      <td>1.650719</td>\n",
       "      <td>-0.131778</td>\n",
       "      <td>-0.405763</td>\n",
       "      <td>0.0</td>\n",
       "      <td>0.0</td>\n",
       "      <td>0.0</td>\n",
       "      <td>0.0</td>\n",
       "      <td>0.0</td>\n",
       "      <td>...</td>\n",
       "      <td>0.0</td>\n",
       "      <td>0.0</td>\n",
       "      <td>0.0</td>\n",
       "      <td>0.0</td>\n",
       "      <td>0.0</td>\n",
       "      <td>0.0</td>\n",
       "      <td>0.0</td>\n",
       "      <td>1.0</td>\n",
       "      <td>0.0</td>\n",
       "      <td>0.0</td>\n",
       "    </tr>\n",
       "    <tr>\n",
       "      <th>1</th>\n",
       "      <td>-0.655437</td>\n",
       "      <td>1.677647</td>\n",
       "      <td>-0.518593</td>\n",
       "      <td>2.367071</td>\n",
       "      <td>-0.706860</td>\n",
       "      <td>0.0</td>\n",
       "      <td>0.0</td>\n",
       "      <td>0.0</td>\n",
       "      <td>0.0</td>\n",
       "      <td>1.0</td>\n",
       "      <td>...</td>\n",
       "      <td>0.0</td>\n",
       "      <td>0.0</td>\n",
       "      <td>0.0</td>\n",
       "      <td>0.0</td>\n",
       "      <td>0.0</td>\n",
       "      <td>0.0</td>\n",
       "      <td>0.0</td>\n",
       "      <td>0.0</td>\n",
       "      <td>0.0</td>\n",
       "      <td>1.0</td>\n",
       "    </tr>\n",
       "    <tr>\n",
       "      <th>2</th>\n",
       "      <td>2.036669</td>\n",
       "      <td>-0.288522</td>\n",
       "      <td>-0.564479</td>\n",
       "      <td>-1.396427</td>\n",
       "      <td>0.364319</td>\n",
       "      <td>0.0</td>\n",
       "      <td>0.0</td>\n",
       "      <td>0.0</td>\n",
       "      <td>0.0</td>\n",
       "      <td>0.0</td>\n",
       "      <td>...</td>\n",
       "      <td>0.0</td>\n",
       "      <td>0.0</td>\n",
       "      <td>0.0</td>\n",
       "      <td>0.0</td>\n",
       "      <td>0.0</td>\n",
       "      <td>0.0</td>\n",
       "      <td>0.0</td>\n",
       "      <td>1.0</td>\n",
       "      <td>0.0</td>\n",
       "      <td>0.0</td>\n",
       "    </tr>\n",
       "    <tr>\n",
       "      <th>3</th>\n",
       "      <td>-0.585419</td>\n",
       "      <td>-0.359531</td>\n",
       "      <td>-0.529225</td>\n",
       "      <td>-1.470591</td>\n",
       "      <td>0.343630</td>\n",
       "      <td>0.0</td>\n",
       "      <td>0.0</td>\n",
       "      <td>0.0</td>\n",
       "      <td>0.0</td>\n",
       "      <td>0.0</td>\n",
       "      <td>...</td>\n",
       "      <td>0.0</td>\n",
       "      <td>0.0</td>\n",
       "      <td>0.0</td>\n",
       "      <td>0.0</td>\n",
       "      <td>0.0</td>\n",
       "      <td>0.0</td>\n",
       "      <td>0.0</td>\n",
       "      <td>1.0</td>\n",
       "      <td>0.0</td>\n",
       "      <td>0.0</td>\n",
       "    </tr>\n",
       "    <tr>\n",
       "      <th>4</th>\n",
       "      <td>1.413565</td>\n",
       "      <td>-0.458076</td>\n",
       "      <td>-0.401093</td>\n",
       "      <td>1.457988</td>\n",
       "      <td>-0.125572</td>\n",
       "      <td>0.0</td>\n",
       "      <td>0.0</td>\n",
       "      <td>0.0</td>\n",
       "      <td>0.0</td>\n",
       "      <td>0.0</td>\n",
       "      <td>...</td>\n",
       "      <td>0.0</td>\n",
       "      <td>0.0</td>\n",
       "      <td>0.0</td>\n",
       "      <td>0.0</td>\n",
       "      <td>0.0</td>\n",
       "      <td>1.0</td>\n",
       "      <td>0.0</td>\n",
       "      <td>0.0</td>\n",
       "      <td>0.0</td>\n",
       "      <td>0.0</td>\n",
       "    </tr>\n",
       "  </tbody>\n",
       "</table>\n",
       "<p>5 rows × 77 columns</p>\n",
       "</div>"
      ],
      "text/plain": [
       "         0         1         2         3         4    5    6    7    8    9   \\\n",
       "0  1.403016 -0.523298  1.650719 -0.131778 -0.405763  0.0  0.0  0.0  0.0  0.0   \n",
       "1 -0.655437  1.677647 -0.518593  2.367071 -0.706860  0.0  0.0  0.0  0.0  1.0   \n",
       "2  2.036669 -0.288522 -0.564479 -1.396427  0.364319  0.0  0.0  0.0  0.0  0.0   \n",
       "3 -0.585419 -0.359531 -0.529225 -1.470591  0.343630  0.0  0.0  0.0  0.0  0.0   \n",
       "4  1.413565 -0.458076 -0.401093  1.457988 -0.125572  0.0  0.0  0.0  0.0  0.0   \n",
       "\n",
       "   ...   67   68   69   70   71   72   73   74   75   76  \n",
       "0  ...  0.0  0.0  0.0  0.0  0.0  0.0  0.0  1.0  0.0  0.0  \n",
       "1  ...  0.0  0.0  0.0  0.0  0.0  0.0  0.0  0.0  0.0  1.0  \n",
       "2  ...  0.0  0.0  0.0  0.0  0.0  0.0  0.0  1.0  0.0  0.0  \n",
       "3  ...  0.0  0.0  0.0  0.0  0.0  0.0  0.0  1.0  0.0  0.0  \n",
       "4  ...  0.0  0.0  0.0  0.0  0.0  1.0  0.0  0.0  0.0  0.0  \n",
       "\n",
       "[5 rows x 77 columns]"
      ]
     },
     "execution_count": 17,
     "metadata": {},
     "output_type": "execute_result"
    }
   ],
   "source": [
    "X_train.head()"
   ]
  },
  {
   "cell_type": "markdown",
   "metadata": {},
   "source": [
    "## Building ANN"
   ]
  },
  {
   "cell_type": "code",
   "execution_count": 18,
   "metadata": {},
   "outputs": [
    {
     "name": "stderr",
     "output_type": "stream",
     "text": [
      "Using TensorFlow backend.\n"
     ]
    }
   ],
   "source": [
    "from keras.models import Sequential\n",
    "from keras.layers import Dense,Dropout"
   ]
  },
  {
   "cell_type": "code",
   "execution_count": 19,
   "metadata": {},
   "outputs": [],
   "source": [
    "from keras.utils import to_categorical"
   ]
  },
  {
   "cell_type": "code",
   "execution_count": 20,
   "metadata": {},
   "outputs": [
    {
     "data": {
      "text/plain": [
       "(27006,)"
      ]
     },
     "execution_count": 20,
     "metadata": {},
     "output_type": "execute_result"
    }
   ],
   "source": [
    "Y.shape"
   ]
  },
  {
   "cell_type": "code",
   "execution_count": 21,
   "metadata": {},
   "outputs": [],
   "source": [
    "y_train = to_categorical(Y,num_classes=5)\n"
   ]
  },
  {
   "cell_type": "code",
   "execution_count": 22,
   "metadata": {},
   "outputs": [],
   "source": [
    "model = Sequential()"
   ]
  },
  {
   "cell_type": "code",
   "execution_count": 23,
   "metadata": {},
   "outputs": [],
   "source": [
    "model.add(Dense(units=64,activation='relu',kernel_initializer='glorot_normal',input_dim=X_train.shape[1]))\n",
    "model.add( Dropout( 0.2 ) )\n",
    "model.add(Dense(units=32,activation='relu',kernel_initializer='glorot_normal'))"
   ]
  },
  {
   "cell_type": "code",
   "execution_count": 24,
   "metadata": {},
   "outputs": [],
   "source": [
    "model.add(Dense(units=5,activation='softmax',kernel_initializer='glorot_normal'))"
   ]
  },
  {
   "cell_type": "code",
   "execution_count": 25,
   "metadata": {},
   "outputs": [],
   "source": [
    "model.compile(loss='categorical_crossentropy',optimizer='adam',metrics=['accuracy'])"
   ]
  },
  {
   "cell_type": "code",
   "execution_count": 26,
   "metadata": {},
   "outputs": [
    {
     "name": "stdout",
     "output_type": "stream",
     "text": [
      "Train on 21604 samples, validate on 5402 samples\n",
      "Epoch 1/40\n",
      "21604/21604 [==============================] - 2s 105us/step - loss: 1.1185 - accuracy: 0.5350 - val_loss: 0.9446 - val_accuracy: 0.6322\n",
      "Epoch 2/40\n",
      "21604/21604 [==============================] - 2s 74us/step - loss: 0.9272 - accuracy: 0.6365 - val_loss: 0.8870 - val_accuracy: 0.6603\n",
      "Epoch 3/40\n",
      "21604/21604 [==============================] - 1s 67us/step - loss: 0.8764 - accuracy: 0.6666 - val_loss: 0.8601 - val_accuracy: 0.6722\n",
      "Epoch 4/40\n",
      "21604/21604 [==============================] - 1s 66us/step - loss: 0.8472 - accuracy: 0.6808 - val_loss: 0.8326 - val_accuracy: 0.6770\n",
      "Epoch 5/40\n",
      "21604/21604 [==============================] - 1s 66us/step - loss: 0.8232 - accuracy: 0.6921 - val_loss: 0.8089 - val_accuracy: 0.6970\n",
      "Epoch 6/40\n",
      "21604/21604 [==============================] - 1s 64us/step - loss: 0.8025 - accuracy: 0.7011 - val_loss: 0.7933 - val_accuracy: 0.6996\n",
      "Epoch 7/40\n",
      "21604/21604 [==============================] - 1s 64us/step - loss: 0.7830 - accuracy: 0.7082 - val_loss: 0.7755 - val_accuracy: 0.7101\n",
      "Epoch 8/40\n",
      "21604/21604 [==============================] - 1s 63us/step - loss: 0.7683 - accuracy: 0.7153 - val_loss: 0.7678 - val_accuracy: 0.7047\n",
      "Epoch 9/40\n",
      "21604/21604 [==============================] - 1s 63us/step - loss: 0.7571 - accuracy: 0.7169 - val_loss: 0.7620 - val_accuracy: 0.7131\n",
      "Epoch 10/40\n",
      "21604/21604 [==============================] - 1s 66us/step - loss: 0.7451 - accuracy: 0.7252 - val_loss: 0.7417 - val_accuracy: 0.7214\n",
      "Epoch 11/40\n",
      "21604/21604 [==============================] - 1s 64us/step - loss: 0.7366 - accuracy: 0.7263 - val_loss: 0.7373 - val_accuracy: 0.7249\n",
      "Epoch 12/40\n",
      "21604/21604 [==============================] - 1s 65us/step - loss: 0.7253 - accuracy: 0.7319 - val_loss: 0.7364 - val_accuracy: 0.7275\n",
      "Epoch 13/40\n",
      "21604/21604 [==============================] - 1s 65us/step - loss: 0.7190 - accuracy: 0.7313 - val_loss: 0.7298 - val_accuracy: 0.7220\n",
      "Epoch 14/40\n",
      "21604/21604 [==============================] - 1s 63us/step - loss: 0.7067 - accuracy: 0.7377 - val_loss: 0.7150 - val_accuracy: 0.7308\n",
      "Epoch 15/40\n",
      "21604/21604 [==============================] - 1s 65us/step - loss: 0.6990 - accuracy: 0.7419 - val_loss: 0.7104 - val_accuracy: 0.7344\n",
      "Epoch 16/40\n",
      "21604/21604 [==============================] - 1s 65us/step - loss: 0.6926 - accuracy: 0.7427 - val_loss: 0.7033 - val_accuracy: 0.7368\n",
      "Epoch 17/40\n",
      "21604/21604 [==============================] - 1s 65us/step - loss: 0.6828 - accuracy: 0.7484 - val_loss: 0.7080 - val_accuracy: 0.7325\n",
      "Epoch 18/40\n",
      "21604/21604 [==============================] - 1s 68us/step - loss: 0.6735 - accuracy: 0.7500 - val_loss: 0.6981 - val_accuracy: 0.7382\n",
      "Epoch 19/40\n",
      "21604/21604 [==============================] - 1s 68us/step - loss: 0.6662 - accuracy: 0.7543 - val_loss: 0.6923 - val_accuracy: 0.7410\n",
      "Epoch 20/40\n",
      "21604/21604 [==============================] - 1s 67us/step - loss: 0.6602 - accuracy: 0.7583 - val_loss: 0.6872 - val_accuracy: 0.7464\n",
      "Epoch 21/40\n",
      "21604/21604 [==============================] - 1s 68us/step - loss: 0.6494 - accuracy: 0.7634 - val_loss: 0.6813 - val_accuracy: 0.7482\n",
      "Epoch 22/40\n",
      "21604/21604 [==============================] - 2s 72us/step - loss: 0.6453 - accuracy: 0.7608 - val_loss: 0.6764 - val_accuracy: 0.7492\n",
      "Epoch 23/40\n",
      "21604/21604 [==============================] - 2s 70us/step - loss: 0.6398 - accuracy: 0.7666 - val_loss: 0.6713 - val_accuracy: 0.7468\n",
      "Epoch 24/40\n",
      "21604/21604 [==============================] - 2s 73us/step - loss: 0.6363 - accuracy: 0.7658 - val_loss: 0.6733 - val_accuracy: 0.7462\n",
      "Epoch 25/40\n",
      "21604/21604 [==============================] - 1s 69us/step - loss: 0.6270 - accuracy: 0.7673 - val_loss: 0.6647 - val_accuracy: 0.7510\n",
      "Epoch 26/40\n",
      "21604/21604 [==============================] - 2s 71us/step - loss: 0.6199 - accuracy: 0.7737 - val_loss: 0.6758 - val_accuracy: 0.7512\n",
      "Epoch 27/40\n",
      "21604/21604 [==============================] - 1s 67us/step - loss: 0.6163 - accuracy: 0.7746 - val_loss: 0.6576 - val_accuracy: 0.7553\n",
      "Epoch 28/40\n",
      "21604/21604 [==============================] - 1s 66us/step - loss: 0.6114 - accuracy: 0.7736 - val_loss: 0.6638 - val_accuracy: 0.7532\n",
      "Epoch 29/40\n",
      "21604/21604 [==============================] - 1s 66us/step - loss: 0.6097 - accuracy: 0.7749 - val_loss: 0.6547 - val_accuracy: 0.7582\n",
      "Epoch 30/40\n",
      "21604/21604 [==============================] - 1s 66us/step - loss: 0.6013 - accuracy: 0.7772 - val_loss: 0.6579 - val_accuracy: 0.7564\n",
      "Epoch 31/40\n",
      "21604/21604 [==============================] - 1s 69us/step - loss: 0.5995 - accuracy: 0.7792 - val_loss: 0.6601 - val_accuracy: 0.7560\n",
      "Epoch 32/40\n",
      "21604/21604 [==============================] - 1s 65us/step - loss: 0.5956 - accuracy: 0.7782 - val_loss: 0.6735 - val_accuracy: 0.7506\n",
      "Epoch 33/40\n",
      "21604/21604 [==============================] - 1s 63us/step - loss: 0.5964 - accuracy: 0.7807 - val_loss: 0.6631 - val_accuracy: 0.7540\n",
      "Epoch 34/40\n",
      "21604/21604 [==============================] - 1s 67us/step - loss: 0.5902 - accuracy: 0.7835 - val_loss: 0.6541 - val_accuracy: 0.7566\n",
      "Epoch 35/40\n",
      "21604/21604 [==============================] - 1s 68us/step - loss: 0.5877 - accuracy: 0.7810 - val_loss: 0.6457 - val_accuracy: 0.7584\n",
      "Epoch 36/40\n",
      "21604/21604 [==============================] - 1s 69us/step - loss: 0.5823 - accuracy: 0.7847 - val_loss: 0.6432 - val_accuracy: 0.7656\n",
      "Epoch 37/40\n",
      "21604/21604 [==============================] - 1s 66us/step - loss: 0.5760 - accuracy: 0.7874 - val_loss: 0.6510 - val_accuracy: 0.7593\n",
      "Epoch 38/40\n",
      "21604/21604 [==============================] - 1s 67us/step - loss: 0.5807 - accuracy: 0.7847 - val_loss: 0.6418 - val_accuracy: 0.7619\n",
      "Epoch 39/40\n",
      "21604/21604 [==============================] - 1s 67us/step - loss: 0.5773 - accuracy: 0.7862 - val_loss: 0.6502 - val_accuracy: 0.7558\n",
      "Epoch 40/40\n",
      "21604/21604 [==============================] - 1s 65us/step - loss: 0.5767 - accuracy: 0.7866 - val_loss: 0.6395 - val_accuracy: 0.7625\n"
     ]
    },
    {
     "data": {
      "text/plain": [
       "<keras.callbacks.callbacks.History at 0x7f072c335e10>"
      ]
     },
     "execution_count": 26,
     "metadata": {},
     "output_type": "execute_result"
    }
   ],
   "source": [
    "model.fit(x=X_train,y=y_train,batch_size=32,epochs=40,validation_split=0.2)"
   ]
  },
  {
   "cell_type": "markdown",
   "metadata": {},
   "source": [
    "## Predicting on train data"
   ]
  },
  {
   "cell_type": "code",
   "execution_count": 27,
   "metadata": {},
   "outputs": [],
   "source": [
    "test_final = pd.read_csv('/kaggle/input/data-added-on-dec25/test_data_merged_25.csv',na_values=[' '],index_col=[0])"
   ]
  },
  {
   "cell_type": "code",
   "execution_count": 28,
   "metadata": {},
   "outputs": [],
   "source": [
    "principalComponents1 = pca.fit_transform(test_final[['SF1','SF2','SF3','SF4','SF5','SF6','SF7']])"
   ]
  },
  {
   "cell_type": "code",
   "execution_count": 29,
   "metadata": {},
   "outputs": [],
   "source": [
    "principalDf2 = pd.DataFrame(data = principalComponents1\n",
    "             , columns = ['pc1','pc2','pc3','pc4','pc5'])"
   ]
  },
  {
   "cell_type": "code",
   "execution_count": 30,
   "metadata": {},
   "outputs": [],
   "source": [
    "test_final = test_final.drop(['SF1','SF2','SF3','SF4','SF5','SF6','SF7'],axis=1)\n"
   ]
  },
  {
   "cell_type": "code",
   "execution_count": 31,
   "metadata": {},
   "outputs": [],
   "source": [
    "test_final = pd.concat([principalDf2, test_final], axis = 1)\n"
   ]
  },
  {
   "cell_type": "code",
   "execution_count": 32,
   "metadata": {},
   "outputs": [],
   "source": [
    "clf_nm = Pipeline(steps=[('preprocessor', preprocessor)])\n",
    "test_final = pd.DataFrame(clf_nm.transform(test_final).todense())"
   ]
  },
  {
   "cell_type": "code",
   "execution_count": 33,
   "metadata": {},
   "outputs": [],
   "source": [
    "test_final['alpha'] = model.predict_classes(test_final)\n"
   ]
  },
  {
   "cell_type": "code",
   "execution_count": 34,
   "metadata": {},
   "outputs": [
    {
     "data": {
      "text/plain": [
       "array([1, 4, 3, 2])"
      ]
     },
     "execution_count": 34,
     "metadata": {},
     "output_type": "execute_result"
    }
   ],
   "source": [
    "test_final['alpha'].unique()"
   ]
  }
 ],
 "metadata": {
  "kernelspec": {
   "display_name": "Python 3",
   "language": "python",
   "name": "python3"
  },
  "language_info": {
   "codemirror_mode": {
    "name": "ipython",
    "version": 3
   },
   "file_extension": ".py",
   "mimetype": "text/x-python",
   "name": "python",
   "nbconvert_exporter": "python",
   "pygments_lexer": "ipython3",
   "version": "3.6.8"
  }
 },
 "nbformat": 4,
 "nbformat_minor": 1
}
