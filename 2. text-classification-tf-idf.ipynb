{
 "cells": [
  {
   "cell_type": "code",
   "execution_count": 1,
   "metadata": {
    "_cell_guid": "b1076dfc-b9ad-4769-8c92-a6c4dae69d19",
    "_uuid": "8f2839f25d086af736a60e9eeb907d3b93b6e0e5"
   },
   "outputs": [
    {
     "name": "stdout",
     "output_type": "stream",
     "text": [
      "/kaggle/input/stock-prediction-using-sentiment-analysis/json_data_final.csv\n",
      "/kaggle/input/stock-prediction-using-sentiment-analysis/train_data-1573118738755.json\n",
      "/kaggle/input/stock-prediction-using-sentiment-analysis/test_data.json\n",
      "/kaggle/input/stock-prediction-using-sentiment-analysis/train_factors-1573207730757.csv\n",
      "/kaggle/input/stock-prediction-using-sentiment-analysis/jsonWsenti2.csv\n",
      "/kaggle/input/stock-prediction-using-sentiment-analysis/test_factors.csv\n",
      "/kaggle/input/test-json-files/test_json_day.csv\n",
      "/kaggle/input/test-json-files/test_json.csv\n"
     ]
    }
   ],
   "source": [
    "# This Python 3 environment comes with many helpful analytics libraries installed\n",
    "# It is defined by the kaggle/python docker image: https://github.com/kaggle/docker-python\n",
    "# For example, here's several helpful packages to load in \n",
    "\n",
    "import numpy as np # linear algebra\n",
    "import pandas as pd # data processing, CSV file I/O (e.g. pd.read_csv)\n",
    "\n",
    "# Input data files are available in the \"../input/\" directory.\n",
    "# For example, running this (by clicking run or pressing Shift+Enter) will list all files under the input directory\n",
    "\n",
    "import os\n",
    "for dirname, _, filenames in os.walk('/kaggle/input'):\n",
    "    for filename in filenames:\n",
    "        print(os.path.join(dirname, filename))\n",
    "\n",
    "# Any results you write to the current directory are saved as output."
   ]
  },
  {
   "cell_type": "markdown",
   "metadata": {},
   "source": [
    "## Synopsis\n",
    "* Load the \"train_json\" and \"test_json\" files\n",
    "* Performed Lemmitization and Tokenization\n",
    "* Perfomed TF-IDF\n",
    "* Built models using Logistic Regression and XGB. Chose Logistic regression as the final model\n",
    "* Predicted on the \"test_json\" file tweets to get a sentiment score\n",
    "* Aggregated the tweets per \"ticker\" on a day level. Predicted on the aggregated tweets on both \"train_json\" and \"test_json\" files using the eariler trained model to get overall sentiment on a day\n",
    "* Created five new features \"senti_0 to senti_4\" which calculate the no.of tweets of each sentiment score per \"ticker\" on a day level\n",
    "* Write the test and train files into csv format and export them to be used for final model building in naother kernel"
   ]
  },
  {
   "cell_type": "code",
   "execution_count": 2,
   "metadata": {},
   "outputs": [
    {
     "name": "stderr",
     "output_type": "stream",
     "text": [
      "Using TensorFlow backend.\n"
     ]
    }
   ],
   "source": [
    "\n",
    "from sklearn import preprocessing\n",
    "from sklearn.impute import SimpleImputer\n",
    "\n",
    "from sklearn.compose import ColumnTransformer\n",
    "\n",
    "from sklearn.preprocessing import StandardScaler\n",
    "from sklearn.preprocessing import OneHotEncoder\n",
    "from sklearn.model_selection import train_test_split\n",
    "from sklearn.pipeline import Pipeline\n",
    "from sklearn.model_selection import GridSearchCV, cross_val_score, StratifiedKFold\n",
    "\n",
    "from sklearn.tree import DecisionTreeClassifier\n",
    "from sklearn.ensemble import RandomForestClassifier\n",
    "from sklearn.svm import SVC\n",
    "from sklearn.linear_model import LogisticRegression\n",
    "from xgboost import XGBClassifier\n",
    "\n",
    "from sklearn.ensemble import GradientBoostingClassifier\n",
    "from sklearn.ensemble import AdaBoostClassifier\n",
    "from sklearn.metrics import confusion_matrix\n",
    "\n",
    "#!pip install imblearn\n",
    "#if the above command does not work to install imblearn package run the following command in your terminal\n",
    "# conda install -c glemaitre imbalanced-learn\n",
    "from imblearn.over_sampling import SMOTE\n",
    "from sklearn.metrics import accuracy_score, recall_score, precision_score,f1_score"
   ]
  },
  {
   "cell_type": "code",
   "execution_count": 3,
   "metadata": {
    "_cell_guid": "79c7e3d0-c299-4dcb-8224-4455121ee9b0",
    "_uuid": "d629ff2d2480ee46fbb7e2d37f6b5fab8052498a"
   },
   "outputs": [],
   "source": [
    "url1 = '/kaggle/input/stock-prediction-using-sentiment-analysis/json_data_final.csv'\n",
    "url2 = '/kaggle/input/stock-prediction-using-sentiment-analysis/train_factors-1573207730757.csv'\n",
    "ulr3 = '/kaggle/input/stock-prediction-using-sentiment-analysis/test_data.json'\n",
    "url4 = '/kaggle/input/stock-prediction-using-sentiment-analysis/test_factors.csv'\n",
    "url5 = '/kaggle/input/test-json-files/test_json.csv'\n",
    "url6 = '/kaggle/input/test-json-files/test_json_day.csv'"
   ]
  },
  {
   "cell_type": "markdown",
   "metadata": {},
   "source": [
    "## 1.0 Reading the train_json csv file"
   ]
  },
  {
   "cell_type": "code",
   "execution_count": 4,
   "metadata": {},
   "outputs": [
    {
     "name": "stderr",
     "output_type": "stream",
     "text": [
      "/opt/conda/lib/python3.6/site-packages/numpy/lib/arraysetops.py:568: FutureWarning: elementwise comparison failed; returning scalar instead, but in the future will perform elementwise comparison\n",
      "  mask |= (ar1 == a)\n"
     ]
    }
   ],
   "source": [
    "train_json = pd.read_csv(url1,index_col=[0],na_values=[' '])"
   ]
  },
  {
   "cell_type": "code",
   "execution_count": 5,
   "metadata": {},
   "outputs": [
    {
     "data": {
      "text/plain": [
       "stocktwit_tweet        12623\n",
       "sentiment_score            0\n",
       "timestamp                  0\n",
       "ticker                     0\n",
       "tweeted_day_of_week        0\n",
       "tweet_month                0\n",
       "tweet_hour                 0\n",
       "dtype: int64"
      ]
     },
     "execution_count": 5,
     "metadata": {},
     "output_type": "execute_result"
    }
   ],
   "source": [
    "train_json.isna().sum()"
   ]
  },
  {
   "cell_type": "code",
   "execution_count": 6,
   "metadata": {},
   "outputs": [
    {
     "data": {
      "text/plain": [
       "stocktwit_tweet        0\n",
       "sentiment_score        0\n",
       "timestamp              0\n",
       "ticker                 0\n",
       "tweeted_day_of_week    0\n",
       "tweet_month            0\n",
       "tweet_hour             0\n",
       "dtype: int64"
      ]
     },
     "execution_count": 6,
     "metadata": {},
     "output_type": "execute_result"
    }
   ],
   "source": [
    "train_json.dropna(subset=['stocktwit_tweet'], inplace=True)\n",
    "train_json.reset_index(drop=True, inplace=True)\n",
    "train_json.isna().sum()"
   ]
  },
  {
   "cell_type": "code",
   "execution_count": 7,
   "metadata": {},
   "outputs": [
    {
     "data": {
      "text/html": [
       "<div>\n",
       "<style scoped>\n",
       "    .dataframe tbody tr th:only-of-type {\n",
       "        vertical-align: middle;\n",
       "    }\n",
       "\n",
       "    .dataframe tbody tr th {\n",
       "        vertical-align: top;\n",
       "    }\n",
       "\n",
       "    .dataframe thead th {\n",
       "        text-align: right;\n",
       "    }\n",
       "</style>\n",
       "<table border=\"1\" class=\"dataframe\">\n",
       "  <thead>\n",
       "    <tr style=\"text-align: right;\">\n",
       "      <th></th>\n",
       "      <th>stocktwit_tweet</th>\n",
       "      <th>sentiment_score</th>\n",
       "      <th>timestamp</th>\n",
       "      <th>ticker</th>\n",
       "      <th>tweeted_day_of_week</th>\n",
       "      <th>tweet_month</th>\n",
       "      <th>tweet_hour</th>\n",
       "    </tr>\n",
       "  </thead>\n",
       "  <tbody>\n",
       "    <tr>\n",
       "      <th>0</th>\n",
       "      <td>going up but hesitating however chart is very...</td>\n",
       "      <td>3</td>\n",
       "      <td>2018-09-19</td>\n",
       "      <td>$AMD</td>\n",
       "      <td>Wednesday</td>\n",
       "      <td>September</td>\n",
       "      <td>18</td>\n",
       "    </tr>\n",
       "    <tr>\n",
       "      <th>1</th>\n",
       "      <td>despite china trade war held very well thumbs up</td>\n",
       "      <td>3</td>\n",
       "      <td>2018-10-09</td>\n",
       "      <td>$CAT</td>\n",
       "      <td>Tuesday</td>\n",
       "      <td>October</td>\n",
       "      <td>3</td>\n",
       "    </tr>\n",
       "  </tbody>\n",
       "</table>\n",
       "</div>"
      ],
      "text/plain": [
       "                                     stocktwit_tweet  sentiment_score  \\\n",
       "0   going up but hesitating however chart is very...                3   \n",
       "1  despite china trade war held very well thumbs up                 3   \n",
       "\n",
       "    timestamp ticker tweeted_day_of_week tweet_month  tweet_hour  \n",
       "0  2018-09-19   $AMD           Wednesday   September          18  \n",
       "1  2018-10-09   $CAT             Tuesday     October           3  "
      ]
     },
     "execution_count": 7,
     "metadata": {},
     "output_type": "execute_result"
    }
   ],
   "source": [
    "train_json['timestamp'] = pd.to_datetime(train_json['timestamp']).dt.date\n",
    "\n",
    "train_json.head(2)"
   ]
  },
  {
   "cell_type": "code",
   "execution_count": 8,
   "metadata": {},
   "outputs": [
    {
     "name": "stdout",
     "output_type": "stream",
     "text": [
      "2018-07-01\n",
      "2018-10-31\n"
     ]
    }
   ],
   "source": [
    "print(train_json[\"timestamp\"].min())\n",
    "print(train_json[\"timestamp\"].max())"
   ]
  },
  {
   "cell_type": "code",
   "execution_count": 9,
   "metadata": {},
   "outputs": [
    {
     "data": {
      "text/html": [
       "<div>\n",
       "<style scoped>\n",
       "    .dataframe tbody tr th:only-of-type {\n",
       "        vertical-align: middle;\n",
       "    }\n",
       "\n",
       "    .dataframe tbody tr th {\n",
       "        vertical-align: top;\n",
       "    }\n",
       "\n",
       "    .dataframe thead th {\n",
       "        text-align: right;\n",
       "    }\n",
       "</style>\n",
       "<table border=\"1\" class=\"dataframe\">\n",
       "  <thead>\n",
       "    <tr style=\"text-align: right;\">\n",
       "      <th></th>\n",
       "      <th>stocktwit_tweet</th>\n",
       "      <th>sentiment_score</th>\n",
       "      <th>timestamp</th>\n",
       "      <th>ticker</th>\n",
       "    </tr>\n",
       "  </thead>\n",
       "  <tbody>\n",
       "    <tr>\n",
       "      <th>0</th>\n",
       "      <td>going up but hesitating however chart is very...</td>\n",
       "      <td>3</td>\n",
       "      <td>2018-09-19</td>\n",
       "      <td>$AMD</td>\n",
       "    </tr>\n",
       "    <tr>\n",
       "      <th>1</th>\n",
       "      <td>despite china trade war held very well thumbs up</td>\n",
       "      <td>3</td>\n",
       "      <td>2018-10-09</td>\n",
       "      <td>$CAT</td>\n",
       "    </tr>\n",
       "    <tr>\n",
       "      <th>2</th>\n",
       "      <td>wtf</td>\n",
       "      <td>2</td>\n",
       "      <td>2018-07-12</td>\n",
       "      <td>$AVGO</td>\n",
       "    </tr>\n",
       "    <tr>\n",
       "      <th>3</th>\n",
       "      <td>new insider filing on muller klaus peter tran...</td>\n",
       "      <td>2</td>\n",
       "      <td>2018-07-19</td>\n",
       "      <td>$PH</td>\n",
       "    </tr>\n",
       "    <tr>\n",
       "      <th>4</th>\n",
       "      <td>if it bounces tommorrow do the right thing an...</td>\n",
       "      <td>3</td>\n",
       "      <td>2018-08-23</td>\n",
       "      <td>$FB</td>\n",
       "    </tr>\n",
       "  </tbody>\n",
       "</table>\n",
       "</div>"
      ],
      "text/plain": [
       "                                     stocktwit_tweet  sentiment_score  \\\n",
       "0   going up but hesitating however chart is very...                3   \n",
       "1  despite china trade war held very well thumbs up                 3   \n",
       "2                                               wtf                 2   \n",
       "3   new insider filing on muller klaus peter tran...                2   \n",
       "4   if it bounces tommorrow do the right thing an...                3   \n",
       "\n",
       "    timestamp ticker  \n",
       "0  2018-09-19   $AMD  \n",
       "1  2018-10-09   $CAT  \n",
       "2  2018-07-12  $AVGO  \n",
       "3  2018-07-19    $PH  \n",
       "4  2018-08-23    $FB  "
      ]
     },
     "execution_count": 9,
     "metadata": {},
     "output_type": "execute_result"
    }
   ],
   "source": [
    "#Dropping extra columns\n",
    "train_json = train_json.drop(['tweeted_day_of_week','tweet_month','tweet_hour'],axis=1)\n",
    "train_json.head()"
   ]
  },
  {
   "cell_type": "markdown",
   "metadata": {},
   "source": []
  },
  {
   "cell_type": "markdown",
   "metadata": {},
   "source": [
    "### 1.1 Train_Json Lemmitizing and tokenizing"
   ]
  },
  {
   "cell_type": "code",
   "execution_count": 10,
   "metadata": {},
   "outputs": [],
   "source": [
    "import spacy #load spacy\n",
    "nlp = spacy.load(\"en\", disable=['parser', 'tagger', 'ner'])\n",
    "stops = spacy.lang.en.stop_words.STOP_WORDS\n",
    "\n",
    "\n",
    "\n",
    "def normalize(comment, lowercase, remove_stopwords):\n",
    "    if lowercase:\n",
    "        comment = comment.lower()\n",
    "    comment = nlp(comment)\n",
    "    lemmatized = list()\n",
    "    for word in comment:\n",
    "        lemma = word.lemma_.strip()\n",
    "        if lemma:\n",
    "            if not remove_stopwords or (remove_stopwords and lemma not in stops):\n",
    "                lemmatized.append(lemma)\n",
    "    return \" \".join(lemmatized)\n",
    "\n",
    "\n",
    "train_json['stocktwit_tweet'] = train_json['stocktwit_tweet'].apply(normalize, lowercase=False, remove_stopwords=True)"
   ]
  },
  {
   "cell_type": "markdown",
   "metadata": {},
   "source": [
    "### 1.2 Train_Json : TF IDF"
   ]
  },
  {
   "cell_type": "code",
   "execution_count": 11,
   "metadata": {},
   "outputs": [],
   "source": [
    "from sklearn.model_selection import train_test_split\n",
    "from sklearn.feature_extraction.text import TfidfVectorizer"
   ]
  },
  {
   "cell_type": "code",
   "execution_count": 12,
   "metadata": {},
   "outputs": [
    {
     "name": "stdout",
     "output_type": "stream",
     "text": [
      "(1010474, 1500)\n"
     ]
    }
   ],
   "source": [
    "tfidf = TfidfVectorizer(max_features=1500, stop_words='english', lowercase = False,ngram_range=(1,3))\n",
    "train_json_tfidf = tfidf.fit_transform(train_json['stocktwit_tweet'])\n",
    "\n",
    "print(train_json_tfidf.shape)"
   ]
  },
  {
   "cell_type": "code",
   "execution_count": 13,
   "metadata": {},
   "outputs": [],
   "source": [
    "y = train_json['sentiment_score']"
   ]
  },
  {
   "cell_type": "code",
   "execution_count": 14,
   "metadata": {},
   "outputs": [
    {
     "name": "stdout",
     "output_type": "stream",
     "text": [
      "X Train Shape (707331, 1500)\n",
      "y Train Shape (707331,)\n",
      "X Valid Shape (303143, 1500)\n",
      "y Train Shape (303143,)\n"
     ]
    }
   ],
   "source": [
    "X_train, X_valid, y_train, y_valid = train_test_split(train_json_tfidf, y, train_size = 0.7, random_state = 20)\n",
    "print('X Train Shape', X_train.shape)\n",
    "print('y Train Shape', y_train.shape)\n",
    "print('X Valid Shape', X_valid.shape)\n",
    "print('y Train Shape', y_valid.shape)"
   ]
  },
  {
   "cell_type": "markdown",
   "metadata": {},
   "source": [
    "## 2.0 Train_json model building"
   ]
  },
  {
   "cell_type": "markdown",
   "metadata": {},
   "source": [
    "### 2.1 Building Logistic Regression"
   ]
  },
  {
   "cell_type": "code",
   "execution_count": 15,
   "metadata": {},
   "outputs": [
    {
     "name": "stderr",
     "output_type": "stream",
     "text": [
      "/opt/conda/lib/python3.6/site-packages/sklearn/linear_model/logistic.py:432: FutureWarning: Default solver will be changed to 'lbfgs' in 0.22. Specify a solver to silence this warning.\n",
      "  FutureWarning)\n",
      "/opt/conda/lib/python3.6/site-packages/sklearn/linear_model/logistic.py:469: FutureWarning: Default multi_class will be changed to 'auto' in 0.22. Specify the multi_class option to silence this warning.\n",
      "  \"this warning.\", FutureWarning)\n"
     ]
    },
    {
     "name": "stdout",
     "output_type": "stream",
     "text": [
      "CPU times: user 1min 16s, sys: 88 ms, total: 1min 16s\n",
      "Wall time: 1min 16s\n"
     ]
    },
    {
     "data": {
      "text/plain": [
       "LogisticRegression(C=1.0, class_weight=None, dual=False, fit_intercept=True,\n",
       "                   intercept_scaling=1, l1_ratio=None, max_iter=100,\n",
       "                   multi_class='warn', n_jobs=None, penalty='l2',\n",
       "                   random_state=None, solver='warn', tol=0.0001, verbose=0,\n",
       "                   warm_start=False)"
      ]
     },
     "execution_count": 15,
     "metadata": {},
     "output_type": "execute_result"
    }
   ],
   "source": [
    "%%time\n",
    "clf_logreg = LogisticRegression()\n",
    "clf_logreg.fit(X_train, y_train)"
   ]
  },
  {
   "cell_type": "code",
   "execution_count": 16,
   "metadata": {},
   "outputs": [
    {
     "name": "stdout",
     "output_type": "stream",
     "text": [
      "F1 score for logreg Train Data is  0.6098100120789917\n",
      "F1 score for logreg Test Data is  0.6089133676812234\n",
      "0.6329172622152853\n",
      "0.6316358946107943\n"
     ]
    }
   ],
   "source": [
    "train_pred_logreg_ = clf_logreg.predict(X_train)\n",
    "val_pred_logreg_sm = clf_logreg.predict(X_valid)\n",
    "\n",
    "f1_logreg_train = f1_score(y_true=y_train, y_pred=train_pred_logreg_,average='weighted')\n",
    "f1_logreg_val = f1_score(y_true=y_valid, y_pred=val_pred_logreg_sm,average='weighted')\n",
    "\n",
    "print(\"F1 score for logreg Train Data is \",f1_logreg_train)\n",
    "print(\"F1 score for logreg Test Data is \",f1_logreg_val)\n",
    "print(accuracy_score(y_true=y_train, y_pred=train_pred_logreg_))\n",
    "print(accuracy_score(y_true=y_valid, y_pred=val_pred_logreg_sm))"
   ]
  },
  {
   "cell_type": "markdown",
   "metadata": {},
   "source": [
    "### 2.2 Building XGBoost"
   ]
  },
  {
   "cell_type": "code",
   "execution_count": 17,
   "metadata": {},
   "outputs": [
    {
     "data": {
      "text/plain": [
       "(707331, 1500)"
      ]
     },
     "execution_count": 17,
     "metadata": {},
     "output_type": "execute_result"
    }
   ],
   "source": [
    "X_train.shape"
   ]
  },
  {
   "cell_type": "code",
   "execution_count": 18,
   "metadata": {},
   "outputs": [
    {
     "name": "stdout",
     "output_type": "stream",
     "text": [
      "CPU times: user 44min 55s, sys: 4.02 s, total: 44min 59s\n",
      "Wall time: 11min 41s\n"
     ]
    },
    {
     "data": {
      "text/plain": [
       "GridSearchCV(cv=5, error_score='raise-deprecating',\n",
       "             estimator=XGBClassifier(base_score=0.5, booster='gbtree',\n",
       "                                     colsample_bylevel=1, colsample_bynode=1,\n",
       "                                     colsample_bytree=1, gamma=0,\n",
       "                                     learning_rate=0.1, max_delta_step=0,\n",
       "                                     max_depth=3, min_child_weight=1,\n",
       "                                     missing=None, n_estimators=100, n_jobs=-1,\n",
       "                                     nthread=None, objective='binary:logistic',\n",
       "                                     random_state=123, reg_alpha=0,\n",
       "                                     re...1, scale_pos_weight=1,\n",
       "                                     seed=None, silent=None, subsample=1,\n",
       "                                     verbosity=1),\n",
       "             iid='warn', n_jobs=None,\n",
       "             param_grid={'classifier__colsample_bytree': [0.8],\n",
       "                         'classifier__learning_rate': [0.1],\n",
       "                         'classifier__max_depth': [15],\n",
       "                         'classifier__n_estimators': [800],\n",
       "                         'classifier__subsample': [0.9]},\n",
       "             pre_dispatch='2*n_jobs', refit=True, return_train_score=False,\n",
       "             scoring=None, verbose=0)"
      ]
     },
     "execution_count": 18,
     "metadata": {},
     "output_type": "execute_result"
    }
   ],
   "source": [
    "\n",
    "%%time\n",
    "\n",
    "clf_XGB = XGBClassifier(random_state=123, n_jobs=-1)\n",
    "\n",
    "param_grid_XGB = {'classifier__colsample_bytree':[0.8],\n",
    "                  'classifier__n_estimators':[800],\n",
    "                  'classifier__max_depth':[15],\n",
    "                  'classifier__learning_rate':[0.1],\n",
    "                  'classifier__subsample':[0.9]\n",
    "                 } \n",
    "\n",
    "grid_XGB = GridSearchCV(clf_XGB, param_grid=param_grid_XGB, cv=5)\n",
    "\n",
    "grid_XGB.fit(X_train, y_train)\n"
   ]
  },
  {
   "cell_type": "code",
   "execution_count": 19,
   "metadata": {},
   "outputs": [
    {
     "name": "stdout",
     "output_type": "stream",
     "text": [
      "F1 score for logreg Train Data is  0.5365891464942166\n",
      "F1 score for logreg Test Data is  0.5373480081991717\n",
      "0.5847630034594836\n",
      "0.5852320521997869\n"
     ]
    }
   ],
   "source": [
    "train_pred_XGB = grid_XGB.predict(X_train)\n",
    "val_pred_XGB = grid_XGB.predict(X_valid)\n",
    "\n",
    "f1_XGB_train = f1_score(y_true=y_train, y_pred=train_pred_XGB,average='weighted')\n",
    "f1_XGB_val = f1_score(y_true=y_valid, y_pred=val_pred_XGB,average='weighted')\n",
    "\n",
    "print(\"F1 score for logreg Train Data is \",f1_XGB_train)\n",
    "print(\"F1 score for logreg Test Data is \",f1_XGB_val)\n",
    "print(accuracy_score(y_true=y_train, y_pred=train_pred_XGB))\n",
    "print(accuracy_score(y_true=y_valid, y_pred=val_pred_XGB))"
   ]
  },
  {
   "cell_type": "markdown",
   "metadata": {},
   "source": [
    "## 3.0 Train_Json :Aggregating the tweets at a day level "
   ]
  },
  {
   "cell_type": "markdown",
   "metadata": {},
   "source": [
    "In this section, tweets are aggregated on a day level per ticker and five new features are created that the capture the no.of tweets per sentiment"
   ]
  },
  {
   "cell_type": "code",
   "execution_count": 20,
   "metadata": {},
   "outputs": [
    {
     "data": {
      "text/html": [
       "<div>\n",
       "<style scoped>\n",
       "    .dataframe tbody tr th:only-of-type {\n",
       "        vertical-align: middle;\n",
       "    }\n",
       "\n",
       "    .dataframe tbody tr th {\n",
       "        vertical-align: top;\n",
       "    }\n",
       "\n",
       "    .dataframe thead th {\n",
       "        text-align: right;\n",
       "    }\n",
       "</style>\n",
       "<table border=\"1\" class=\"dataframe\">\n",
       "  <thead>\n",
       "    <tr style=\"text-align: right;\">\n",
       "      <th></th>\n",
       "      <th>sentiment_score</th>\n",
       "      <th>0</th>\n",
       "      <th>1</th>\n",
       "      <th>2</th>\n",
       "      <th>3</th>\n",
       "      <th>4</th>\n",
       "    </tr>\n",
       "    <tr>\n",
       "      <th>timestamp</th>\n",
       "      <th>ticker</th>\n",
       "      <th></th>\n",
       "      <th></th>\n",
       "      <th></th>\n",
       "      <th></th>\n",
       "      <th></th>\n",
       "    </tr>\n",
       "  </thead>\n",
       "  <tbody>\n",
       "    <tr>\n",
       "      <th rowspan=\"5\" valign=\"top\">2018-07-01</th>\n",
       "      <th>$AABA</th>\n",
       "      <td>0.0</td>\n",
       "      <td>0.0</td>\n",
       "      <td>1.0</td>\n",
       "      <td>0.0</td>\n",
       "      <td>0.0</td>\n",
       "    </tr>\n",
       "    <tr>\n",
       "      <th>$AAL</th>\n",
       "      <td>0.0</td>\n",
       "      <td>1.0</td>\n",
       "      <td>1.0</td>\n",
       "      <td>2.0</td>\n",
       "      <td>1.0</td>\n",
       "    </tr>\n",
       "    <tr>\n",
       "      <th>$AAP</th>\n",
       "      <td>0.0</td>\n",
       "      <td>1.0</td>\n",
       "      <td>0.0</td>\n",
       "      <td>0.0</td>\n",
       "      <td>0.0</td>\n",
       "    </tr>\n",
       "    <tr>\n",
       "      <th>$AAPL</th>\n",
       "      <td>1.0</td>\n",
       "      <td>2.0</td>\n",
       "      <td>27.0</td>\n",
       "      <td>5.0</td>\n",
       "      <td>2.0</td>\n",
       "    </tr>\n",
       "    <tr>\n",
       "      <th>$ABBV</th>\n",
       "      <td>2.0</td>\n",
       "      <td>0.0</td>\n",
       "      <td>0.0</td>\n",
       "      <td>0.0</td>\n",
       "      <td>1.0</td>\n",
       "    </tr>\n",
       "  </tbody>\n",
       "</table>\n",
       "</div>"
      ],
      "text/plain": [
       "sentiment_score      0    1     2    3    4\n",
       "timestamp  ticker                          \n",
       "2018-07-01 $AABA   0.0  0.0   1.0  0.0  0.0\n",
       "           $AAL    0.0  1.0   1.0  2.0  1.0\n",
       "           $AAP    0.0  1.0   0.0  0.0  0.0\n",
       "           $AAPL   1.0  2.0  27.0  5.0  2.0\n",
       "           $ABBV   2.0  0.0   0.0  0.0  1.0"
      ]
     },
     "execution_count": 20,
     "metadata": {},
     "output_type": "execute_result"
    }
   ],
   "source": [
    "train_json[\"_dummy\"]=1\n",
    "df2=train_json.pivot_table(index=[\"timestamp\", \"ticker\"], columns=\"sentiment_score\", values=\"_dummy\", aggfunc=\"sum\").fillna(0)\n",
    "df2.head()"
   ]
  },
  {
   "cell_type": "code",
   "execution_count": 21,
   "metadata": {},
   "outputs": [
    {
     "data": {
      "text/html": [
       "<div>\n",
       "<style scoped>\n",
       "    .dataframe tbody tr th:only-of-type {\n",
       "        vertical-align: middle;\n",
       "    }\n",
       "\n",
       "    .dataframe tbody tr th {\n",
       "        vertical-align: top;\n",
       "    }\n",
       "\n",
       "    .dataframe thead th {\n",
       "        text-align: right;\n",
       "    }\n",
       "</style>\n",
       "<table border=\"1\" class=\"dataframe\">\n",
       "  <thead>\n",
       "    <tr style=\"text-align: right;\">\n",
       "      <th></th>\n",
       "      <th></th>\n",
       "      <th>stocktwit_tweet</th>\n",
       "    </tr>\n",
       "    <tr>\n",
       "      <th>timestamp</th>\n",
       "      <th>ticker</th>\n",
       "      <th></th>\n",
       "    </tr>\n",
       "  </thead>\n",
       "  <tbody>\n",
       "    <tr>\n",
       "      <th rowspan=\"5\" valign=\"top\">2018-07-01</th>\n",
       "      <th>$AABA</th>\n",
       "      <td>option volume x normal friday contract volume ...</td>\n",
       "    </tr>\n",
       "    <tr>\n",
       "      <th>$AAL</th>\n",
       "      <td>s undervalue lowweek target zone markmonthly c...</td>\n",
       "    </tr>\n",
       "    <tr>\n",
       "      <th>$AAP</th>\n",
       "      <td>short sale volume short interest shortvolumes</td>\n",
       "    </tr>\n",
       "    <tr>\n",
       "      <th>$AAPL</th>\n",
       "      <td>warren diggered exitright angle apple lol craz...</td>\n",
       "    </tr>\n",
       "    <tr>\n",
       "      <th>$ABBV</th>\n",
       "      <td>bullish bat bullish bat bullish divergencewond...</td>\n",
       "    </tr>\n",
       "  </tbody>\n",
       "</table>\n",
       "</div>"
      ],
      "text/plain": [
       "                                                     stocktwit_tweet\n",
       "timestamp  ticker                                                   \n",
       "2018-07-01 $AABA   option volume x normal friday contract volume ...\n",
       "           $AAL    s undervalue lowweek target zone markmonthly c...\n",
       "           $AAP        short sale volume short interest shortvolumes\n",
       "           $AAPL   warren diggered exitright angle apple lol craz...\n",
       "           $ABBV   bullish bat bullish bat bullish divergencewond..."
      ]
     },
     "execution_count": 21,
     "metadata": {},
     "output_type": "execute_result"
    }
   ],
   "source": [
    "df3=train_json.pivot_table(index=[\"timestamp\", \"ticker\"], values=\"stocktwit_tweet\", aggfunc=\"sum\")\n",
    "df3.head()"
   ]
  },
  {
   "cell_type": "code",
   "execution_count": 22,
   "metadata": {},
   "outputs": [
    {
     "data": {
      "text/html": [
       "<div>\n",
       "<style scoped>\n",
       "    .dataframe tbody tr th:only-of-type {\n",
       "        vertical-align: middle;\n",
       "    }\n",
       "\n",
       "    .dataframe tbody tr th {\n",
       "        vertical-align: top;\n",
       "    }\n",
       "\n",
       "    .dataframe thead th {\n",
       "        text-align: right;\n",
       "    }\n",
       "</style>\n",
       "<table border=\"1\" class=\"dataframe\">\n",
       "  <thead>\n",
       "    <tr style=\"text-align: right;\">\n",
       "      <th></th>\n",
       "      <th></th>\n",
       "      <th>0</th>\n",
       "      <th>1</th>\n",
       "      <th>2</th>\n",
       "      <th>3</th>\n",
       "      <th>4</th>\n",
       "      <th>stocktwit_tweet</th>\n",
       "    </tr>\n",
       "    <tr>\n",
       "      <th>timestamp</th>\n",
       "      <th>ticker</th>\n",
       "      <th></th>\n",
       "      <th></th>\n",
       "      <th></th>\n",
       "      <th></th>\n",
       "      <th></th>\n",
       "      <th></th>\n",
       "    </tr>\n",
       "  </thead>\n",
       "  <tbody>\n",
       "    <tr>\n",
       "      <th rowspan=\"5\" valign=\"top\">2018-07-01</th>\n",
       "      <th>$AABA</th>\n",
       "      <td>0.0</td>\n",
       "      <td>0.0</td>\n",
       "      <td>1.0</td>\n",
       "      <td>0.0</td>\n",
       "      <td>0.0</td>\n",
       "      <td>option volume x normal friday contract volume ...</td>\n",
       "    </tr>\n",
       "    <tr>\n",
       "      <th>$AAL</th>\n",
       "      <td>0.0</td>\n",
       "      <td>1.0</td>\n",
       "      <td>1.0</td>\n",
       "      <td>2.0</td>\n",
       "      <td>1.0</td>\n",
       "      <td>s undervalue lowweek target zone markmonthly c...</td>\n",
       "    </tr>\n",
       "    <tr>\n",
       "      <th>$AAP</th>\n",
       "      <td>0.0</td>\n",
       "      <td>1.0</td>\n",
       "      <td>0.0</td>\n",
       "      <td>0.0</td>\n",
       "      <td>0.0</td>\n",
       "      <td>short sale volume short interest shortvolumes</td>\n",
       "    </tr>\n",
       "    <tr>\n",
       "      <th>$AAPL</th>\n",
       "      <td>1.0</td>\n",
       "      <td>2.0</td>\n",
       "      <td>27.0</td>\n",
       "      <td>5.0</td>\n",
       "      <td>2.0</td>\n",
       "      <td>warren diggered exitright angle apple lol craz...</td>\n",
       "    </tr>\n",
       "    <tr>\n",
       "      <th>$ABBV</th>\n",
       "      <td>2.0</td>\n",
       "      <td>0.0</td>\n",
       "      <td>0.0</td>\n",
       "      <td>0.0</td>\n",
       "      <td>1.0</td>\n",
       "      <td>bullish bat bullish bat bullish divergencewond...</td>\n",
       "    </tr>\n",
       "  </tbody>\n",
       "</table>\n",
       "</div>"
      ],
      "text/plain": [
       "                     0    1     2    3    4  \\\n",
       "timestamp  ticker                             \n",
       "2018-07-01 $AABA   0.0  0.0   1.0  0.0  0.0   \n",
       "           $AAL    0.0  1.0   1.0  2.0  1.0   \n",
       "           $AAP    0.0  1.0   0.0  0.0  0.0   \n",
       "           $AAPL   1.0  2.0  27.0  5.0  2.0   \n",
       "           $ABBV   2.0  0.0   0.0  0.0  1.0   \n",
       "\n",
       "                                                     stocktwit_tweet  \n",
       "timestamp  ticker                                                     \n",
       "2018-07-01 $AABA   option volume x normal friday contract volume ...  \n",
       "           $AAL    s undervalue lowweek target zone markmonthly c...  \n",
       "           $AAP        short sale volume short interest shortvolumes  \n",
       "           $AAPL   warren diggered exitright angle apple lol craz...  \n",
       "           $ABBV   bullish bat bullish bat bullish divergencewond...  "
      ]
     },
     "execution_count": 22,
     "metadata": {},
     "output_type": "execute_result"
    }
   ],
   "source": [
    "res=pd.concat([df2, df3], axis=1)\n",
    "res.head()"
   ]
  },
  {
   "cell_type": "code",
   "execution_count": 23,
   "metadata": {},
   "outputs": [
    {
     "data": {
      "text/html": [
       "<div>\n",
       "<style scoped>\n",
       "    .dataframe tbody tr th:only-of-type {\n",
       "        vertical-align: middle;\n",
       "    }\n",
       "\n",
       "    .dataframe tbody tr th {\n",
       "        vertical-align: top;\n",
       "    }\n",
       "\n",
       "    .dataframe thead th {\n",
       "        text-align: right;\n",
       "    }\n",
       "</style>\n",
       "<table border=\"1\" class=\"dataframe\">\n",
       "  <thead>\n",
       "    <tr style=\"text-align: right;\">\n",
       "      <th></th>\n",
       "      <th>timestamp</th>\n",
       "      <th>ticker</th>\n",
       "      <th>0</th>\n",
       "      <th>1</th>\n",
       "      <th>2</th>\n",
       "      <th>3</th>\n",
       "      <th>4</th>\n",
       "      <th>stocktwit_tweet</th>\n",
       "    </tr>\n",
       "  </thead>\n",
       "  <tbody>\n",
       "    <tr>\n",
       "      <th>0</th>\n",
       "      <td>2018-07-01</td>\n",
       "      <td>$AABA</td>\n",
       "      <td>0.0</td>\n",
       "      <td>0.0</td>\n",
       "      <td>1.0</td>\n",
       "      <td>0.0</td>\n",
       "      <td>0.0</td>\n",
       "      <td>option volume x normal friday contract volume ...</td>\n",
       "    </tr>\n",
       "    <tr>\n",
       "      <th>1</th>\n",
       "      <td>2018-07-01</td>\n",
       "      <td>$AAL</td>\n",
       "      <td>0.0</td>\n",
       "      <td>1.0</td>\n",
       "      <td>1.0</td>\n",
       "      <td>2.0</td>\n",
       "      <td>1.0</td>\n",
       "      <td>s undervalue lowweek target zone markmonthly c...</td>\n",
       "    </tr>\n",
       "    <tr>\n",
       "      <th>2</th>\n",
       "      <td>2018-07-01</td>\n",
       "      <td>$AAP</td>\n",
       "      <td>0.0</td>\n",
       "      <td>1.0</td>\n",
       "      <td>0.0</td>\n",
       "      <td>0.0</td>\n",
       "      <td>0.0</td>\n",
       "      <td>short sale volume short interest shortvolumes</td>\n",
       "    </tr>\n",
       "    <tr>\n",
       "      <th>3</th>\n",
       "      <td>2018-07-01</td>\n",
       "      <td>$AAPL</td>\n",
       "      <td>1.0</td>\n",
       "      <td>2.0</td>\n",
       "      <td>27.0</td>\n",
       "      <td>5.0</td>\n",
       "      <td>2.0</td>\n",
       "      <td>warren diggered exitright angle apple lol craz...</td>\n",
       "    </tr>\n",
       "    <tr>\n",
       "      <th>4</th>\n",
       "      <td>2018-07-01</td>\n",
       "      <td>$ABBV</td>\n",
       "      <td>2.0</td>\n",
       "      <td>0.0</td>\n",
       "      <td>0.0</td>\n",
       "      <td>0.0</td>\n",
       "      <td>1.0</td>\n",
       "      <td>bullish bat bullish bat bullish divergencewond...</td>\n",
       "    </tr>\n",
       "  </tbody>\n",
       "</table>\n",
       "</div>"
      ],
      "text/plain": [
       "    timestamp ticker    0    1     2    3    4  \\\n",
       "0  2018-07-01  $AABA  0.0  0.0   1.0  0.0  0.0   \n",
       "1  2018-07-01   $AAL  0.0  1.0   1.0  2.0  1.0   \n",
       "2  2018-07-01   $AAP  0.0  1.0   0.0  0.0  0.0   \n",
       "3  2018-07-01  $AAPL  1.0  2.0  27.0  5.0  2.0   \n",
       "4  2018-07-01  $ABBV  2.0  0.0   0.0  0.0  1.0   \n",
       "\n",
       "                                     stocktwit_tweet  \n",
       "0  option volume x normal friday contract volume ...  \n",
       "1  s undervalue lowweek target zone markmonthly c...  \n",
       "2      short sale volume short interest shortvolumes  \n",
       "3  warren diggered exitright angle apple lol craz...  \n",
       "4  bullish bat bullish bat bullish divergencewond...  "
      ]
     },
     "execution_count": 23,
     "metadata": {},
     "output_type": "execute_result"
    }
   ],
   "source": [
    "train_json_day = pd.DataFrame(res.to_records())\n",
    "train_json_day.head()"
   ]
  },
  {
   "cell_type": "code",
   "execution_count": 24,
   "metadata": {},
   "outputs": [
    {
     "data": {
      "text/html": [
       "<div>\n",
       "<style scoped>\n",
       "    .dataframe tbody tr th:only-of-type {\n",
       "        vertical-align: middle;\n",
       "    }\n",
       "\n",
       "    .dataframe tbody tr th {\n",
       "        vertical-align: top;\n",
       "    }\n",
       "\n",
       "    .dataframe thead th {\n",
       "        text-align: right;\n",
       "    }\n",
       "</style>\n",
       "<table border=\"1\" class=\"dataframe\">\n",
       "  <thead>\n",
       "    <tr style=\"text-align: right;\">\n",
       "      <th></th>\n",
       "      <th>date</th>\n",
       "      <th>ticker</th>\n",
       "      <th>senti_0</th>\n",
       "      <th>senti_1</th>\n",
       "      <th>senti_2</th>\n",
       "      <th>senti_3</th>\n",
       "      <th>senti_4</th>\n",
       "      <th>tweet</th>\n",
       "    </tr>\n",
       "  </thead>\n",
       "  <tbody>\n",
       "    <tr>\n",
       "      <th>0</th>\n",
       "      <td>2018-07-01</td>\n",
       "      <td>$AABA</td>\n",
       "      <td>0.0</td>\n",
       "      <td>0.0</td>\n",
       "      <td>1.0</td>\n",
       "      <td>0.0</td>\n",
       "      <td>0.0</td>\n",
       "      <td>option volume x normal friday contract volume ...</td>\n",
       "    </tr>\n",
       "    <tr>\n",
       "      <th>1</th>\n",
       "      <td>2018-07-01</td>\n",
       "      <td>$AAL</td>\n",
       "      <td>0.0</td>\n",
       "      <td>1.0</td>\n",
       "      <td>1.0</td>\n",
       "      <td>2.0</td>\n",
       "      <td>1.0</td>\n",
       "      <td>s undervalue lowweek target zone markmonthly c...</td>\n",
       "    </tr>\n",
       "    <tr>\n",
       "      <th>2</th>\n",
       "      <td>2018-07-01</td>\n",
       "      <td>$AAP</td>\n",
       "      <td>0.0</td>\n",
       "      <td>1.0</td>\n",
       "      <td>0.0</td>\n",
       "      <td>0.0</td>\n",
       "      <td>0.0</td>\n",
       "      <td>short sale volume short interest shortvolumes</td>\n",
       "    </tr>\n",
       "    <tr>\n",
       "      <th>3</th>\n",
       "      <td>2018-07-01</td>\n",
       "      <td>$AAPL</td>\n",
       "      <td>1.0</td>\n",
       "      <td>2.0</td>\n",
       "      <td>27.0</td>\n",
       "      <td>5.0</td>\n",
       "      <td>2.0</td>\n",
       "      <td>warren diggered exitright angle apple lol craz...</td>\n",
       "    </tr>\n",
       "    <tr>\n",
       "      <th>4</th>\n",
       "      <td>2018-07-01</td>\n",
       "      <td>$ABBV</td>\n",
       "      <td>2.0</td>\n",
       "      <td>0.0</td>\n",
       "      <td>0.0</td>\n",
       "      <td>0.0</td>\n",
       "      <td>1.0</td>\n",
       "      <td>bullish bat bullish bat bullish divergencewond...</td>\n",
       "    </tr>\n",
       "  </tbody>\n",
       "</table>\n",
       "</div>"
      ],
      "text/plain": [
       "         date ticker  senti_0  senti_1  senti_2  senti_3  senti_4  \\\n",
       "0  2018-07-01  $AABA      0.0      0.0      1.0      0.0      0.0   \n",
       "1  2018-07-01   $AAL      0.0      1.0      1.0      2.0      1.0   \n",
       "2  2018-07-01   $AAP      0.0      1.0      0.0      0.0      0.0   \n",
       "3  2018-07-01  $AAPL      1.0      2.0     27.0      5.0      2.0   \n",
       "4  2018-07-01  $ABBV      2.0      0.0      0.0      0.0      1.0   \n",
       "\n",
       "                                               tweet  \n",
       "0  option volume x normal friday contract volume ...  \n",
       "1  s undervalue lowweek target zone markmonthly c...  \n",
       "2      short sale volume short interest shortvolumes  \n",
       "3  warren diggered exitright angle apple lol craz...  \n",
       "4  bullish bat bullish bat bullish divergencewond...  "
      ]
     },
     "execution_count": 24,
     "metadata": {},
     "output_type": "execute_result"
    }
   ],
   "source": [
    "train_json_day.columns = ['date','ticker','senti_0','senti_1','senti_2','senti_3','senti_4','tweet']\n",
    "train_json_day.head()"
   ]
  },
  {
   "cell_type": "code",
   "execution_count": 25,
   "metadata": {},
   "outputs": [
    {
     "data": {
      "text/html": [
       "<div>\n",
       "<style scoped>\n",
       "    .dataframe tbody tr th:only-of-type {\n",
       "        vertical-align: middle;\n",
       "    }\n",
       "\n",
       "    .dataframe tbody tr th {\n",
       "        vertical-align: top;\n",
       "    }\n",
       "\n",
       "    .dataframe thead th {\n",
       "        text-align: right;\n",
       "    }\n",
       "</style>\n",
       "<table border=\"1\" class=\"dataframe\">\n",
       "  <thead>\n",
       "    <tr style=\"text-align: right;\">\n",
       "      <th></th>\n",
       "      <th>date</th>\n",
       "      <th>ticker</th>\n",
       "      <th>senti_0</th>\n",
       "      <th>senti_1</th>\n",
       "      <th>senti_2</th>\n",
       "      <th>senti_3</th>\n",
       "      <th>senti_4</th>\n",
       "      <th>tweet</th>\n",
       "      <th>word_count</th>\n",
       "    </tr>\n",
       "  </thead>\n",
       "  <tbody>\n",
       "    <tr>\n",
       "      <th>0</th>\n",
       "      <td>2018-07-01</td>\n",
       "      <td>$AABA</td>\n",
       "      <td>0.0</td>\n",
       "      <td>0.0</td>\n",
       "      <td>1.0</td>\n",
       "      <td>0.0</td>\n",
       "      <td>0.0</td>\n",
       "      <td>option volume x normal friday contract volume ...</td>\n",
       "      <td>8</td>\n",
       "    </tr>\n",
       "    <tr>\n",
       "      <th>1</th>\n",
       "      <td>2018-07-01</td>\n",
       "      <td>$AAL</td>\n",
       "      <td>0.0</td>\n",
       "      <td>1.0</td>\n",
       "      <td>1.0</td>\n",
       "      <td>2.0</td>\n",
       "      <td>1.0</td>\n",
       "      <td>s undervalue lowweek target zone markmonthly c...</td>\n",
       "      <td>28</td>\n",
       "    </tr>\n",
       "    <tr>\n",
       "      <th>2</th>\n",
       "      <td>2018-07-01</td>\n",
       "      <td>$AAP</td>\n",
       "      <td>0.0</td>\n",
       "      <td>1.0</td>\n",
       "      <td>0.0</td>\n",
       "      <td>0.0</td>\n",
       "      <td>0.0</td>\n",
       "      <td>short sale volume short interest shortvolumes</td>\n",
       "      <td>6</td>\n",
       "    </tr>\n",
       "    <tr>\n",
       "      <th>3</th>\n",
       "      <td>2018-07-01</td>\n",
       "      <td>$AAPL</td>\n",
       "      <td>1.0</td>\n",
       "      <td>2.0</td>\n",
       "      <td>27.0</td>\n",
       "      <td>5.0</td>\n",
       "      <td>2.0</td>\n",
       "      <td>warren diggered exitright angle apple lol craz...</td>\n",
       "      <td>253</td>\n",
       "    </tr>\n",
       "    <tr>\n",
       "      <th>4</th>\n",
       "      <td>2018-07-01</td>\n",
       "      <td>$ABBV</td>\n",
       "      <td>2.0</td>\n",
       "      <td>0.0</td>\n",
       "      <td>0.0</td>\n",
       "      <td>0.0</td>\n",
       "      <td>1.0</td>\n",
       "      <td>bullish bat bullish bat bullish divergencewond...</td>\n",
       "      <td>16</td>\n",
       "    </tr>\n",
       "  </tbody>\n",
       "</table>\n",
       "</div>"
      ],
      "text/plain": [
       "         date ticker  senti_0  senti_1  senti_2  senti_3  senti_4  \\\n",
       "0  2018-07-01  $AABA      0.0      0.0      1.0      0.0      0.0   \n",
       "1  2018-07-01   $AAL      0.0      1.0      1.0      2.0      1.0   \n",
       "2  2018-07-01   $AAP      0.0      1.0      0.0      0.0      0.0   \n",
       "3  2018-07-01  $AAPL      1.0      2.0     27.0      5.0      2.0   \n",
       "4  2018-07-01  $ABBV      2.0      0.0      0.0      0.0      1.0   \n",
       "\n",
       "                                               tweet  word_count  \n",
       "0  option volume x normal friday contract volume ...           8  \n",
       "1  s undervalue lowweek target zone markmonthly c...          28  \n",
       "2      short sale volume short interest shortvolumes           6  \n",
       "3  warren diggered exitright angle apple lol craz...         253  \n",
       "4  bullish bat bullish bat bullish divergencewond...          16  "
      ]
     },
     "execution_count": 25,
     "metadata": {},
     "output_type": "execute_result"
    }
   ],
   "source": [
    "train_json_day['word_count'] = [len(text.split(' ')) for text in train_json_day['tweet']]\n",
    "train_json_day.head()"
   ]
  },
  {
   "cell_type": "code",
   "execution_count": 26,
   "metadata": {},
   "outputs": [
    {
     "data": {
      "text/plain": [
       "'s undervalue lowweek target zone markmonthly chart support hope rebindb enterprise value vs b market cap difference actual asset vs market value big spread way undervaluelook way oversell'"
      ]
     },
     "execution_count": 26,
     "metadata": {},
     "output_type": "execute_result"
    }
   ],
   "source": [
    "train_json_day.loc[1,'tweet' ]"
   ]
  },
  {
   "cell_type": "code",
   "execution_count": 27,
   "metadata": {},
   "outputs": [
    {
     "data": {
      "text/plain": [
       "(64482, 9)"
      ]
     },
     "execution_count": 27,
     "metadata": {},
     "output_type": "execute_result"
    }
   ],
   "source": [
    "train_json_day.shape"
   ]
  },
  {
   "cell_type": "markdown",
   "metadata": {},
   "source": [
    "### 3.1 Train_Json aggregated file : Pre-Processing : Lemitization and tokenizing"
   ]
  },
  {
   "cell_type": "code",
   "execution_count": 28,
   "metadata": {},
   "outputs": [],
   "source": [
    "train_json_day['tweet'] = train_json_day['tweet'].apply(normalize, lowercase=False, remove_stopwords=True)"
   ]
  },
  {
   "cell_type": "code",
   "execution_count": 29,
   "metadata": {},
   "outputs": [
    {
     "data": {
      "text/html": [
       "<div>\n",
       "<style scoped>\n",
       "    .dataframe tbody tr th:only-of-type {\n",
       "        vertical-align: middle;\n",
       "    }\n",
       "\n",
       "    .dataframe tbody tr th {\n",
       "        vertical-align: top;\n",
       "    }\n",
       "\n",
       "    .dataframe thead th {\n",
       "        text-align: right;\n",
       "    }\n",
       "</style>\n",
       "<table border=\"1\" class=\"dataframe\">\n",
       "  <thead>\n",
       "    <tr style=\"text-align: right;\">\n",
       "      <th></th>\n",
       "      <th>date</th>\n",
       "      <th>ticker</th>\n",
       "      <th>senti_0</th>\n",
       "      <th>senti_1</th>\n",
       "      <th>senti_2</th>\n",
       "      <th>senti_3</th>\n",
       "      <th>senti_4</th>\n",
       "      <th>tweet</th>\n",
       "      <th>word_count</th>\n",
       "    </tr>\n",
       "  </thead>\n",
       "  <tbody>\n",
       "    <tr>\n",
       "      <th>0</th>\n",
       "      <td>2018-07-01</td>\n",
       "      <td>$AABA</td>\n",
       "      <td>0.0</td>\n",
       "      <td>0.0</td>\n",
       "      <td>1.0</td>\n",
       "      <td>0.0</td>\n",
       "      <td>0.0</td>\n",
       "      <td>option volume x normal friday contract volume ...</td>\n",
       "      <td>8</td>\n",
       "    </tr>\n",
       "    <tr>\n",
       "      <th>1</th>\n",
       "      <td>2018-07-01</td>\n",
       "      <td>$AAL</td>\n",
       "      <td>0.0</td>\n",
       "      <td>1.0</td>\n",
       "      <td>1.0</td>\n",
       "      <td>2.0</td>\n",
       "      <td>1.0</td>\n",
       "      <td>s undervalue lowweek target zone markmonthly c...</td>\n",
       "      <td>28</td>\n",
       "    </tr>\n",
       "    <tr>\n",
       "      <th>2</th>\n",
       "      <td>2018-07-01</td>\n",
       "      <td>$AAP</td>\n",
       "      <td>0.0</td>\n",
       "      <td>1.0</td>\n",
       "      <td>0.0</td>\n",
       "      <td>0.0</td>\n",
       "      <td>0.0</td>\n",
       "      <td>short sale volume short interest shortvolumes</td>\n",
       "      <td>6</td>\n",
       "    </tr>\n",
       "    <tr>\n",
       "      <th>3</th>\n",
       "      <td>2018-07-01</td>\n",
       "      <td>$AAPL</td>\n",
       "      <td>1.0</td>\n",
       "      <td>2.0</td>\n",
       "      <td>27.0</td>\n",
       "      <td>5.0</td>\n",
       "      <td>2.0</td>\n",
       "      <td>warren diggered exitright angle apple lol craz...</td>\n",
       "      <td>253</td>\n",
       "    </tr>\n",
       "    <tr>\n",
       "      <th>4</th>\n",
       "      <td>2018-07-01</td>\n",
       "      <td>$ABBV</td>\n",
       "      <td>2.0</td>\n",
       "      <td>0.0</td>\n",
       "      <td>0.0</td>\n",
       "      <td>0.0</td>\n",
       "      <td>1.0</td>\n",
       "      <td>bullish bat bullish bat bullish divergencewond...</td>\n",
       "      <td>16</td>\n",
       "    </tr>\n",
       "  </tbody>\n",
       "</table>\n",
       "</div>"
      ],
      "text/plain": [
       "         date ticker  senti_0  senti_1  senti_2  senti_3  senti_4  \\\n",
       "0  2018-07-01  $AABA      0.0      0.0      1.0      0.0      0.0   \n",
       "1  2018-07-01   $AAL      0.0      1.0      1.0      2.0      1.0   \n",
       "2  2018-07-01   $AAP      0.0      1.0      0.0      0.0      0.0   \n",
       "3  2018-07-01  $AAPL      1.0      2.0     27.0      5.0      2.0   \n",
       "4  2018-07-01  $ABBV      2.0      0.0      0.0      0.0      1.0   \n",
       "\n",
       "                                               tweet  word_count  \n",
       "0  option volume x normal friday contract volume ...           8  \n",
       "1  s undervalue lowweek target zone markmonthly c...          28  \n",
       "2      short sale volume short interest shortvolumes           6  \n",
       "3  warren diggered exitright angle apple lol craz...         253  \n",
       "4  bullish bat bullish bat bullish divergencewond...          16  "
      ]
     },
     "execution_count": 29,
     "metadata": {},
     "output_type": "execute_result"
    }
   ],
   "source": [
    "train_json_day.head()"
   ]
  },
  {
   "cell_type": "markdown",
   "metadata": {},
   "source": [
    "### 3.2 Train_Json_Agg Prediction"
   ]
  },
  {
   "cell_type": "code",
   "execution_count": 30,
   "metadata": {},
   "outputs": [],
   "source": [
    "train_json_agg = tfidf.transform(train_json_day['tweet'])"
   ]
  },
  {
   "cell_type": "code",
   "execution_count": 31,
   "metadata": {},
   "outputs": [],
   "source": [
    "train_json_day[\"senti_train\"] = clf_logreg.predict(train_json_agg)"
   ]
  },
  {
   "cell_type": "code",
   "execution_count": 32,
   "metadata": {},
   "outputs": [
    {
     "data": {
      "text/plain": [
       "2    40334\n",
       "1     8196\n",
       "4     6818\n",
       "3     4952\n",
       "0     4182\n",
       "Name: senti_train, dtype: int64"
      ]
     },
     "execution_count": 32,
     "metadata": {},
     "output_type": "execute_result"
    }
   ],
   "source": [
    "train_json_day['senti_train'].value_counts()"
   ]
  },
  {
   "cell_type": "markdown",
   "metadata": {},
   "source": [
    "#### Sentiment analysis using text blob"
   ]
  },
  {
   "cell_type": "code",
   "execution_count": 33,
   "metadata": {},
   "outputs": [],
   "source": [
    "from textblob import *"
   ]
  },
  {
   "cell_type": "code",
   "execution_count": 34,
   "metadata": {},
   "outputs": [],
   "source": [
    "def get_tweet_sentiment(tweet): \n",
    "    \n",
    "    # create TextBlob object of passed tweet text \n",
    "    analysis = TextBlob(tweet) \n",
    "    # set sentiment \n",
    "    if analysis.sentiment.polarity > 0: \n",
    "        return('positive')\n",
    "    elif analysis.sentiment.polarity == 0: \n",
    "        return ('neutral')\n",
    "    else: \n",
    "        return ('negative')"
   ]
  },
  {
   "cell_type": "code",
   "execution_count": 35,
   "metadata": {},
   "outputs": [],
   "source": [
    "train_json_day['Senti_blob'] = train_json_day['tweet'].apply(get_tweet_sentiment)"
   ]
  },
  {
   "cell_type": "code",
   "execution_count": 36,
   "metadata": {},
   "outputs": [
    {
     "data": {
      "text/html": [
       "<div>\n",
       "<style scoped>\n",
       "    .dataframe tbody tr th:only-of-type {\n",
       "        vertical-align: middle;\n",
       "    }\n",
       "\n",
       "    .dataframe tbody tr th {\n",
       "        vertical-align: top;\n",
       "    }\n",
       "\n",
       "    .dataframe thead th {\n",
       "        text-align: right;\n",
       "    }\n",
       "</style>\n",
       "<table border=\"1\" class=\"dataframe\">\n",
       "  <thead>\n",
       "    <tr style=\"text-align: right;\">\n",
       "      <th></th>\n",
       "      <th>date</th>\n",
       "      <th>ticker</th>\n",
       "      <th>senti_0</th>\n",
       "      <th>senti_1</th>\n",
       "      <th>senti_2</th>\n",
       "      <th>senti_3</th>\n",
       "      <th>senti_4</th>\n",
       "      <th>tweet</th>\n",
       "      <th>word_count</th>\n",
       "      <th>senti_train</th>\n",
       "      <th>Senti_blob</th>\n",
       "    </tr>\n",
       "  </thead>\n",
       "  <tbody>\n",
       "    <tr>\n",
       "      <th>0</th>\n",
       "      <td>2018-07-01</td>\n",
       "      <td>$AABA</td>\n",
       "      <td>0.0</td>\n",
       "      <td>0.0</td>\n",
       "      <td>1.0</td>\n",
       "      <td>0.0</td>\n",
       "      <td>0.0</td>\n",
       "      <td>option volume x normal friday contract volume ...</td>\n",
       "      <td>8</td>\n",
       "      <td>2</td>\n",
       "      <td>positive</td>\n",
       "    </tr>\n",
       "    <tr>\n",
       "      <th>1</th>\n",
       "      <td>2018-07-01</td>\n",
       "      <td>$AAL</td>\n",
       "      <td>0.0</td>\n",
       "      <td>1.0</td>\n",
       "      <td>1.0</td>\n",
       "      <td>2.0</td>\n",
       "      <td>1.0</td>\n",
       "      <td>s undervalue lowweek target zone markmonthly c...</td>\n",
       "      <td>28</td>\n",
       "      <td>3</td>\n",
       "      <td>neutral</td>\n",
       "    </tr>\n",
       "    <tr>\n",
       "      <th>2</th>\n",
       "      <td>2018-07-01</td>\n",
       "      <td>$AAP</td>\n",
       "      <td>0.0</td>\n",
       "      <td>1.0</td>\n",
       "      <td>0.0</td>\n",
       "      <td>0.0</td>\n",
       "      <td>0.0</td>\n",
       "      <td>short sale volume short interest shortvolumes</td>\n",
       "      <td>6</td>\n",
       "      <td>1</td>\n",
       "      <td>neutral</td>\n",
       "    </tr>\n",
       "    <tr>\n",
       "      <th>3</th>\n",
       "      <td>2018-07-01</td>\n",
       "      <td>$AAPL</td>\n",
       "      <td>1.0</td>\n",
       "      <td>2.0</td>\n",
       "      <td>27.0</td>\n",
       "      <td>5.0</td>\n",
       "      <td>2.0</td>\n",
       "      <td>warren diggered exitright angle apple lol craz...</td>\n",
       "      <td>253</td>\n",
       "      <td>4</td>\n",
       "      <td>positive</td>\n",
       "    </tr>\n",
       "    <tr>\n",
       "      <th>4</th>\n",
       "      <td>2018-07-01</td>\n",
       "      <td>$ABBV</td>\n",
       "      <td>2.0</td>\n",
       "      <td>0.0</td>\n",
       "      <td>0.0</td>\n",
       "      <td>0.0</td>\n",
       "      <td>1.0</td>\n",
       "      <td>bullish bat bullish bat bullish divergencewond...</td>\n",
       "      <td>16</td>\n",
       "      <td>0</td>\n",
       "      <td>neutral</td>\n",
       "    </tr>\n",
       "  </tbody>\n",
       "</table>\n",
       "</div>"
      ],
      "text/plain": [
       "         date ticker  senti_0  senti_1  senti_2  senti_3  senti_4  \\\n",
       "0  2018-07-01  $AABA      0.0      0.0      1.0      0.0      0.0   \n",
       "1  2018-07-01   $AAL      0.0      1.0      1.0      2.0      1.0   \n",
       "2  2018-07-01   $AAP      0.0      1.0      0.0      0.0      0.0   \n",
       "3  2018-07-01  $AAPL      1.0      2.0     27.0      5.0      2.0   \n",
       "4  2018-07-01  $ABBV      2.0      0.0      0.0      0.0      1.0   \n",
       "\n",
       "                                               tweet  word_count  senti_train  \\\n",
       "0  option volume x normal friday contract volume ...           8            2   \n",
       "1  s undervalue lowweek target zone markmonthly c...          28            3   \n",
       "2      short sale volume short interest shortvolumes           6            1   \n",
       "3  warren diggered exitright angle apple lol craz...         253            4   \n",
       "4  bullish bat bullish bat bullish divergencewond...          16            0   \n",
       "\n",
       "  Senti_blob  \n",
       "0   positive  \n",
       "1    neutral  \n",
       "2    neutral  \n",
       "3   positive  \n",
       "4    neutral  "
      ]
     },
     "execution_count": 36,
     "metadata": {},
     "output_type": "execute_result"
    }
   ],
   "source": [
    "train_json_day.head()"
   ]
  },
  {
   "cell_type": "code",
   "execution_count": 37,
   "metadata": {},
   "outputs": [],
   "source": [
    "train_json_day.to_csv(\"json_train_senti25.csv\")"
   ]
  },
  {
   "cell_type": "markdown",
   "metadata": {},
   "source": [
    "## 4.0 Reading and preprocessing the  test_json data"
   ]
  },
  {
   "cell_type": "code",
   "execution_count": 38,
   "metadata": {},
   "outputs": [],
   "source": [
    "test_json_act = pd.read_csv(url5,index_col=[0],na_values=[' '])"
   ]
  },
  {
   "cell_type": "code",
   "execution_count": 39,
   "metadata": {},
   "outputs": [
    {
     "data": {
      "text/html": [
       "<div>\n",
       "<style scoped>\n",
       "    .dataframe tbody tr th:only-of-type {\n",
       "        vertical-align: middle;\n",
       "    }\n",
       "\n",
       "    .dataframe tbody tr th {\n",
       "        vertical-align: top;\n",
       "    }\n",
       "\n",
       "    .dataframe thead th {\n",
       "        text-align: right;\n",
       "    }\n",
       "</style>\n",
       "<table border=\"1\" class=\"dataframe\">\n",
       "  <thead>\n",
       "    <tr style=\"text-align: right;\">\n",
       "      <th></th>\n",
       "      <th>stocktwit_tweet</th>\n",
       "      <th>timestamp</th>\n",
       "      <th>ticker</th>\n",
       "    </tr>\n",
       "  </thead>\n",
       "  <tbody>\n",
       "    <tr>\n",
       "      <th>0</th>\n",
       "      <td>nothing to be exited about</td>\n",
       "      <td>2018-10-25</td>\n",
       "      <td>$CELG</td>\n",
       "    </tr>\n",
       "    <tr>\n",
       "      <th>1</th>\n",
       "      <td>yall exhaust your buyer on first green candle...</td>\n",
       "      <td>2018-07-13</td>\n",
       "      <td>$AMD</td>\n",
       "    </tr>\n",
       "    <tr>\n",
       "      <th>2</th>\n",
       "      <td>day traders day</td>\n",
       "      <td>2018-09-25</td>\n",
       "      <td>$AMD</td>\n",
       "    </tr>\n",
       "    <tr>\n",
       "      <th>4</th>\n",
       "      <td>weak price action so far today do not be afra...</td>\n",
       "      <td>2018-07-31</td>\n",
       "      <td>$MU</td>\n",
       "    </tr>\n",
       "    <tr>\n",
       "      <th>5</th>\n",
       "      <td>continues to grow specifically in key areas l...</td>\n",
       "      <td>2018-08-04</td>\n",
       "      <td>$AMZN</td>\n",
       "    </tr>\n",
       "  </tbody>\n",
       "</table>\n",
       "</div>"
      ],
      "text/plain": [
       "                                     stocktwit_tweet   timestamp ticker\n",
       "0                         nothing to be exited about  2018-10-25  $CELG\n",
       "1   yall exhaust your buyer on first green candle...  2018-07-13   $AMD\n",
       "2                                   day traders day   2018-09-25   $AMD\n",
       "4   weak price action so far today do not be afra...  2018-07-31    $MU\n",
       "5   continues to grow specifically in key areas l...  2018-08-04  $AMZN"
      ]
     },
     "execution_count": 39,
     "metadata": {},
     "output_type": "execute_result"
    }
   ],
   "source": [
    "test_json_act.head()"
   ]
  },
  {
   "cell_type": "code",
   "execution_count": 40,
   "metadata": {},
   "outputs": [
    {
     "data": {
      "text/plain": [
       "stocktwit_tweet    3990\n",
       "timestamp             0\n",
       "ticker                0\n",
       "dtype: int64"
      ]
     },
     "execution_count": 40,
     "metadata": {},
     "output_type": "execute_result"
    }
   ],
   "source": [
    "test_json_act.isna().sum()"
   ]
  },
  {
   "cell_type": "code",
   "execution_count": 41,
   "metadata": {},
   "outputs": [
    {
     "data": {
      "text/plain": [
       "stocktwit_tweet    0\n",
       "timestamp          0\n",
       "ticker             0\n",
       "dtype: int64"
      ]
     },
     "execution_count": 41,
     "metadata": {},
     "output_type": "execute_result"
    }
   ],
   "source": [
    "test_json_act.dropna(subset=['stocktwit_tweet'], inplace=True)\n",
    "test_json_act.reset_index(drop=True, inplace=True)\n",
    "test_json_act.isna().sum()"
   ]
  },
  {
   "cell_type": "code",
   "execution_count": 42,
   "metadata": {},
   "outputs": [
    {
     "data": {
      "text/html": [
       "<div>\n",
       "<style scoped>\n",
       "    .dataframe tbody tr th:only-of-type {\n",
       "        vertical-align: middle;\n",
       "    }\n",
       "\n",
       "    .dataframe tbody tr th {\n",
       "        vertical-align: top;\n",
       "    }\n",
       "\n",
       "    .dataframe thead th {\n",
       "        text-align: right;\n",
       "    }\n",
       "</style>\n",
       "<table border=\"1\" class=\"dataframe\">\n",
       "  <thead>\n",
       "    <tr style=\"text-align: right;\">\n",
       "      <th></th>\n",
       "      <th>stocktwit_tweet</th>\n",
       "      <th>timestamp</th>\n",
       "      <th>ticker</th>\n",
       "    </tr>\n",
       "  </thead>\n",
       "  <tbody>\n",
       "    <tr>\n",
       "      <th>0</th>\n",
       "      <td>nothing to be exited about</td>\n",
       "      <td>2018-10-25</td>\n",
       "      <td>$CELG</td>\n",
       "    </tr>\n",
       "    <tr>\n",
       "      <th>1</th>\n",
       "      <td>yall exhaust your buyer on first green candle...</td>\n",
       "      <td>2018-07-13</td>\n",
       "      <td>$AMD</td>\n",
       "    </tr>\n",
       "  </tbody>\n",
       "</table>\n",
       "</div>"
      ],
      "text/plain": [
       "                                     stocktwit_tweet   timestamp ticker\n",
       "0                         nothing to be exited about  2018-10-25  $CELG\n",
       "1   yall exhaust your buyer on first green candle...  2018-07-13   $AMD"
      ]
     },
     "execution_count": 42,
     "metadata": {},
     "output_type": "execute_result"
    }
   ],
   "source": [
    "test_json_act['timestamp'] = pd.to_datetime(test_json_act['timestamp']).dt.date\n",
    "\n",
    "test_json_act.head(2)"
   ]
  },
  {
   "cell_type": "code",
   "execution_count": 43,
   "metadata": {},
   "outputs": [
    {
     "name": "stdout",
     "output_type": "stream",
     "text": [
      "2018-07-01\n",
      "2018-10-31\n"
     ]
    }
   ],
   "source": [
    "print(test_json_act[\"timestamp\"].min())\n",
    "print(test_json_act[\"timestamp\"].max())"
   ]
  },
  {
   "cell_type": "code",
   "execution_count": 44,
   "metadata": {},
   "outputs": [],
   "source": [
    "test_json_act['stocktwit_tweet'] = test_json_act['stocktwit_tweet'].apply(normalize, lowercase=False, remove_stopwords=True)"
   ]
  },
  {
   "cell_type": "code",
   "execution_count": 45,
   "metadata": {},
   "outputs": [],
   "source": [
    "test_json_act_tfidf = tfidf.transform(test_json_act['stocktwit_tweet'])"
   ]
  },
  {
   "cell_type": "markdown",
   "metadata": {},
   "source": [
    "### 4.1 Predicting on the test_json individual tweets"
   ]
  },
  {
   "cell_type": "code",
   "execution_count": 46,
   "metadata": {},
   "outputs": [],
   "source": [
    "test_json_act[\"senti_score\"] = clf_logreg.predict(test_json_act_tfidf)"
   ]
  },
  {
   "cell_type": "code",
   "execution_count": 47,
   "metadata": {},
   "outputs": [
    {
     "data": {
      "text/html": [
       "<div>\n",
       "<style scoped>\n",
       "    .dataframe tbody tr th:only-of-type {\n",
       "        vertical-align: middle;\n",
       "    }\n",
       "\n",
       "    .dataframe tbody tr th {\n",
       "        vertical-align: top;\n",
       "    }\n",
       "\n",
       "    .dataframe thead th {\n",
       "        text-align: right;\n",
       "    }\n",
       "</style>\n",
       "<table border=\"1\" class=\"dataframe\">\n",
       "  <thead>\n",
       "    <tr style=\"text-align: right;\">\n",
       "      <th></th>\n",
       "      <th>stocktwit_tweet</th>\n",
       "      <th>timestamp</th>\n",
       "      <th>ticker</th>\n",
       "      <th>senti_score</th>\n",
       "    </tr>\n",
       "  </thead>\n",
       "  <tbody>\n",
       "    <tr>\n",
       "      <th>0</th>\n",
       "      <td>exit</td>\n",
       "      <td>2018-10-25</td>\n",
       "      <td>$CELG</td>\n",
       "      <td>2</td>\n",
       "    </tr>\n",
       "    <tr>\n",
       "      <th>1</th>\n",
       "      <td>-PRON- exhaust buyer ﻿1 green candle byeeeeee</td>\n",
       "      <td>2018-07-13</td>\n",
       "      <td>$AMD</td>\n",
       "      <td>4</td>\n",
       "    </tr>\n",
       "    <tr>\n",
       "      <th>2</th>\n",
       "      <td>day trader day</td>\n",
       "      <td>2018-09-25</td>\n",
       "      <td>$AMD</td>\n",
       "      <td>2</td>\n",
       "    </tr>\n",
       "    <tr>\n",
       "      <th>3</th>\n",
       "      <td>weak price action far today afraid short break...</td>\n",
       "      <td>2018-07-31</td>\n",
       "      <td>$MU</td>\n",
       "      <td>1</td>\n",
       "    </tr>\n",
       "    <tr>\n",
       "      <th>4</th>\n",
       "      <td>continue grow specifically key area like cloud...</td>\n",
       "      <td>2018-08-04</td>\n",
       "      <td>$AMZN</td>\n",
       "      <td>2</td>\n",
       "    </tr>\n",
       "  </tbody>\n",
       "</table>\n",
       "</div>"
      ],
      "text/plain": [
       "                                     stocktwit_tweet   timestamp ticker  \\\n",
       "0                                               exit  2018-10-25  $CELG   \n",
       "1      -PRON- exhaust buyer ﻿1 green candle byeeeeee  2018-07-13   $AMD   \n",
       "2                                     day trader day  2018-09-25   $AMD   \n",
       "3  weak price action far today afraid short break...  2018-07-31    $MU   \n",
       "4  continue grow specifically key area like cloud...  2018-08-04  $AMZN   \n",
       "\n",
       "   senti_score  \n",
       "0            2  \n",
       "1            4  \n",
       "2            2  \n",
       "3            1  \n",
       "4            2  "
      ]
     },
     "execution_count": 47,
     "metadata": {},
     "output_type": "execute_result"
    }
   ],
   "source": [
    "test_json_act.head()"
   ]
  },
  {
   "cell_type": "markdown",
   "metadata": {},
   "source": [
    "### 4.2 Predicting on test_json Day level aggregated tweets"
   ]
  },
  {
   "cell_type": "code",
   "execution_count": 48,
   "metadata": {},
   "outputs": [],
   "source": [
    "test_json_act[\"_dummy\"]=1\n",
    "df2=test_json_act.pivot_table(index=[\"timestamp\", \"ticker\"], columns=\"senti_score\", values=\"_dummy\", aggfunc=\"sum\").fillna(0)"
   ]
  },
  {
   "cell_type": "code",
   "execution_count": 49,
   "metadata": {},
   "outputs": [
    {
     "data": {
      "text/html": [
       "<div>\n",
       "<style scoped>\n",
       "    .dataframe tbody tr th:only-of-type {\n",
       "        vertical-align: middle;\n",
       "    }\n",
       "\n",
       "    .dataframe tbody tr th {\n",
       "        vertical-align: top;\n",
       "    }\n",
       "\n",
       "    .dataframe thead th {\n",
       "        text-align: right;\n",
       "    }\n",
       "</style>\n",
       "<table border=\"1\" class=\"dataframe\">\n",
       "  <thead>\n",
       "    <tr style=\"text-align: right;\">\n",
       "      <th></th>\n",
       "      <th></th>\n",
       "      <th>stocktwit_tweet</th>\n",
       "    </tr>\n",
       "    <tr>\n",
       "      <th>timestamp</th>\n",
       "      <th>ticker</th>\n",
       "      <th></th>\n",
       "    </tr>\n",
       "  </thead>\n",
       "  <tbody>\n",
       "    <tr>\n",
       "      <th rowspan=\"5\" valign=\"top\">2018-07-01</th>\n",
       "      <th>$AAL</th>\n",
       "      <td>short ratio short float sunshineaveshort volum...</td>\n",
       "    </tr>\n",
       "    <tr>\n",
       "      <th>$AAPL</th>\n",
       "      <td>bush f donald fduckgreat callout morning gjtes...</td>\n",
       "    </tr>\n",
       "    <tr>\n",
       "      <th>$AEP</th>\n",
       "      <td>americanelectricpower little volatile market b...</td>\n",
       "    </tr>\n",
       "    <tr>\n",
       "      <th>$AES</th>\n",
       "      <td>bull reason pay attention</td>\n",
       "    </tr>\n",
       "    <tr>\n",
       "      <th>$ALXN</th>\n",
       "      <td>short interest ratio short float sunshineave</td>\n",
       "    </tr>\n",
       "  </tbody>\n",
       "</table>\n",
       "</div>"
      ],
      "text/plain": [
       "                                                     stocktwit_tweet\n",
       "timestamp  ticker                                                   \n",
       "2018-07-01 $AAL    short ratio short float sunshineaveshort volum...\n",
       "           $AAPL   bush f donald fduckgreat callout morning gjtes...\n",
       "           $AEP    americanelectricpower little volatile market b...\n",
       "           $AES                            bull reason pay attention\n",
       "           $ALXN        short interest ratio short float sunshineave"
      ]
     },
     "execution_count": 49,
     "metadata": {},
     "output_type": "execute_result"
    }
   ],
   "source": [
    "df3=test_json_act.pivot_table(index=[\"timestamp\", \"ticker\"], values=\"stocktwit_tweet\", aggfunc=\"sum\")\n",
    "df3.head()"
   ]
  },
  {
   "cell_type": "code",
   "execution_count": 50,
   "metadata": {},
   "outputs": [
    {
     "data": {
      "text/html": [
       "<div>\n",
       "<style scoped>\n",
       "    .dataframe tbody tr th:only-of-type {\n",
       "        vertical-align: middle;\n",
       "    }\n",
       "\n",
       "    .dataframe tbody tr th {\n",
       "        vertical-align: top;\n",
       "    }\n",
       "\n",
       "    .dataframe thead th {\n",
       "        text-align: right;\n",
       "    }\n",
       "</style>\n",
       "<table border=\"1\" class=\"dataframe\">\n",
       "  <thead>\n",
       "    <tr style=\"text-align: right;\">\n",
       "      <th></th>\n",
       "      <th></th>\n",
       "      <th>0</th>\n",
       "      <th>1</th>\n",
       "      <th>2</th>\n",
       "      <th>3</th>\n",
       "      <th>4</th>\n",
       "      <th>stocktwit_tweet</th>\n",
       "    </tr>\n",
       "    <tr>\n",
       "      <th>timestamp</th>\n",
       "      <th>ticker</th>\n",
       "      <th></th>\n",
       "      <th></th>\n",
       "      <th></th>\n",
       "      <th></th>\n",
       "      <th></th>\n",
       "      <th></th>\n",
       "    </tr>\n",
       "  </thead>\n",
       "  <tbody>\n",
       "    <tr>\n",
       "      <th rowspan=\"5\" valign=\"top\">2018-07-01</th>\n",
       "      <th>$AAL</th>\n",
       "      <td>3.0</td>\n",
       "      <td>0.0</td>\n",
       "      <td>0.0</td>\n",
       "      <td>0.0</td>\n",
       "      <td>0.0</td>\n",
       "      <td>short ratio short float sunshineaveshort volum...</td>\n",
       "    </tr>\n",
       "    <tr>\n",
       "      <th>$AAPL</th>\n",
       "      <td>1.0</td>\n",
       "      <td>0.0</td>\n",
       "      <td>7.0</td>\n",
       "      <td>1.0</td>\n",
       "      <td>1.0</td>\n",
       "      <td>bush f donald fduckgreat callout morning gjtes...</td>\n",
       "    </tr>\n",
       "    <tr>\n",
       "      <th>$AEP</th>\n",
       "      <td>0.0</td>\n",
       "      <td>0.0</td>\n",
       "      <td>1.0</td>\n",
       "      <td>0.0</td>\n",
       "      <td>0.0</td>\n",
       "      <td>americanelectricpower little volatile market b...</td>\n",
       "    </tr>\n",
       "    <tr>\n",
       "      <th>$AES</th>\n",
       "      <td>0.0</td>\n",
       "      <td>0.0</td>\n",
       "      <td>0.0</td>\n",
       "      <td>1.0</td>\n",
       "      <td>0.0</td>\n",
       "      <td>bull reason pay attention</td>\n",
       "    </tr>\n",
       "    <tr>\n",
       "      <th>$ALXN</th>\n",
       "      <td>1.0</td>\n",
       "      <td>0.0</td>\n",
       "      <td>0.0</td>\n",
       "      <td>0.0</td>\n",
       "      <td>0.0</td>\n",
       "      <td>short interest ratio short float sunshineave</td>\n",
       "    </tr>\n",
       "  </tbody>\n",
       "</table>\n",
       "</div>"
      ],
      "text/plain": [
       "                     0    1    2    3    4  \\\n",
       "timestamp  ticker                            \n",
       "2018-07-01 $AAL    3.0  0.0  0.0  0.0  0.0   \n",
       "           $AAPL   1.0  0.0  7.0  1.0  1.0   \n",
       "           $AEP    0.0  0.0  1.0  0.0  0.0   \n",
       "           $AES    0.0  0.0  0.0  1.0  0.0   \n",
       "           $ALXN   1.0  0.0  0.0  0.0  0.0   \n",
       "\n",
       "                                                     stocktwit_tweet  \n",
       "timestamp  ticker                                                     \n",
       "2018-07-01 $AAL    short ratio short float sunshineaveshort volum...  \n",
       "           $AAPL   bush f donald fduckgreat callout morning gjtes...  \n",
       "           $AEP    americanelectricpower little volatile market b...  \n",
       "           $AES                            bull reason pay attention  \n",
       "           $ALXN        short interest ratio short float sunshineave  "
      ]
     },
     "execution_count": 50,
     "metadata": {},
     "output_type": "execute_result"
    }
   ],
   "source": [
    "res=pd.concat([df2, df3], axis=1)\n",
    "res.head()"
   ]
  },
  {
   "cell_type": "code",
   "execution_count": 51,
   "metadata": {},
   "outputs": [
    {
     "data": {
      "text/html": [
       "<div>\n",
       "<style scoped>\n",
       "    .dataframe tbody tr th:only-of-type {\n",
       "        vertical-align: middle;\n",
       "    }\n",
       "\n",
       "    .dataframe tbody tr th {\n",
       "        vertical-align: top;\n",
       "    }\n",
       "\n",
       "    .dataframe thead th {\n",
       "        text-align: right;\n",
       "    }\n",
       "</style>\n",
       "<table border=\"1\" class=\"dataframe\">\n",
       "  <thead>\n",
       "    <tr style=\"text-align: right;\">\n",
       "      <th></th>\n",
       "      <th>timestamp</th>\n",
       "      <th>ticker</th>\n",
       "      <th>0</th>\n",
       "      <th>1</th>\n",
       "      <th>2</th>\n",
       "      <th>3</th>\n",
       "      <th>4</th>\n",
       "      <th>stocktwit_tweet</th>\n",
       "    </tr>\n",
       "  </thead>\n",
       "  <tbody>\n",
       "    <tr>\n",
       "      <th>0</th>\n",
       "      <td>2018-07-01</td>\n",
       "      <td>$AAL</td>\n",
       "      <td>3.0</td>\n",
       "      <td>0.0</td>\n",
       "      <td>0.0</td>\n",
       "      <td>0.0</td>\n",
       "      <td>0.0</td>\n",
       "      <td>short ratio short float sunshineaveshort volum...</td>\n",
       "    </tr>\n",
       "    <tr>\n",
       "      <th>1</th>\n",
       "      <td>2018-07-01</td>\n",
       "      <td>$AAPL</td>\n",
       "      <td>1.0</td>\n",
       "      <td>0.0</td>\n",
       "      <td>7.0</td>\n",
       "      <td>1.0</td>\n",
       "      <td>1.0</td>\n",
       "      <td>bush f donald fduckgreat callout morning gjtes...</td>\n",
       "    </tr>\n",
       "    <tr>\n",
       "      <th>2</th>\n",
       "      <td>2018-07-01</td>\n",
       "      <td>$AEP</td>\n",
       "      <td>0.0</td>\n",
       "      <td>0.0</td>\n",
       "      <td>1.0</td>\n",
       "      <td>0.0</td>\n",
       "      <td>0.0</td>\n",
       "      <td>americanelectricpower little volatile market b...</td>\n",
       "    </tr>\n",
       "    <tr>\n",
       "      <th>3</th>\n",
       "      <td>2018-07-01</td>\n",
       "      <td>$AES</td>\n",
       "      <td>0.0</td>\n",
       "      <td>0.0</td>\n",
       "      <td>0.0</td>\n",
       "      <td>1.0</td>\n",
       "      <td>0.0</td>\n",
       "      <td>bull reason pay attention</td>\n",
       "    </tr>\n",
       "    <tr>\n",
       "      <th>4</th>\n",
       "      <td>2018-07-01</td>\n",
       "      <td>$ALXN</td>\n",
       "      <td>1.0</td>\n",
       "      <td>0.0</td>\n",
       "      <td>0.0</td>\n",
       "      <td>0.0</td>\n",
       "      <td>0.0</td>\n",
       "      <td>short interest ratio short float sunshineave</td>\n",
       "    </tr>\n",
       "  </tbody>\n",
       "</table>\n",
       "</div>"
      ],
      "text/plain": [
       "    timestamp ticker    0    1    2    3    4  \\\n",
       "0  2018-07-01   $AAL  3.0  0.0  0.0  0.0  0.0   \n",
       "1  2018-07-01  $AAPL  1.0  0.0  7.0  1.0  1.0   \n",
       "2  2018-07-01   $AEP  0.0  0.0  1.0  0.0  0.0   \n",
       "3  2018-07-01   $AES  0.0  0.0  0.0  1.0  0.0   \n",
       "4  2018-07-01  $ALXN  1.0  0.0  0.0  0.0  0.0   \n",
       "\n",
       "                                     stocktwit_tweet  \n",
       "0  short ratio short float sunshineaveshort volum...  \n",
       "1  bush f donald fduckgreat callout morning gjtes...  \n",
       "2  americanelectricpower little volatile market b...  \n",
       "3                          bull reason pay attention  \n",
       "4       short interest ratio short float sunshineave  "
      ]
     },
     "execution_count": 51,
     "metadata": {},
     "output_type": "execute_result"
    }
   ],
   "source": [
    "test_json_day = pd.DataFrame(res.to_records())\n",
    "test_json_day.head()"
   ]
  },
  {
   "cell_type": "code",
   "execution_count": 52,
   "metadata": {},
   "outputs": [
    {
     "data": {
      "text/html": [
       "<div>\n",
       "<style scoped>\n",
       "    .dataframe tbody tr th:only-of-type {\n",
       "        vertical-align: middle;\n",
       "    }\n",
       "\n",
       "    .dataframe tbody tr th {\n",
       "        vertical-align: top;\n",
       "    }\n",
       "\n",
       "    .dataframe thead th {\n",
       "        text-align: right;\n",
       "    }\n",
       "</style>\n",
       "<table border=\"1\" class=\"dataframe\">\n",
       "  <thead>\n",
       "    <tr style=\"text-align: right;\">\n",
       "      <th></th>\n",
       "      <th>timestamp</th>\n",
       "      <th>ticker</th>\n",
       "      <th>0</th>\n",
       "      <th>1</th>\n",
       "      <th>2</th>\n",
       "      <th>3</th>\n",
       "      <th>4</th>\n",
       "      <th>stocktwit_tweet</th>\n",
       "      <th>word_count</th>\n",
       "    </tr>\n",
       "  </thead>\n",
       "  <tbody>\n",
       "    <tr>\n",
       "      <th>0</th>\n",
       "      <td>2018-07-01</td>\n",
       "      <td>$AAL</td>\n",
       "      <td>3.0</td>\n",
       "      <td>0.0</td>\n",
       "      <td>0.0</td>\n",
       "      <td>0.0</td>\n",
       "      <td>0.0</td>\n",
       "      <td>short ratio short float sunshineaveshort volum...</td>\n",
       "      <td>16</td>\n",
       "    </tr>\n",
       "    <tr>\n",
       "      <th>1</th>\n",
       "      <td>2018-07-01</td>\n",
       "      <td>$AAPL</td>\n",
       "      <td>1.0</td>\n",
       "      <td>0.0</td>\n",
       "      <td>7.0</td>\n",
       "      <td>1.0</td>\n",
       "      <td>1.0</td>\n",
       "      <td>bush f donald fduckgreat callout morning gjtes...</td>\n",
       "      <td>64</td>\n",
       "    </tr>\n",
       "    <tr>\n",
       "      <th>2</th>\n",
       "      <td>2018-07-01</td>\n",
       "      <td>$AEP</td>\n",
       "      <td>0.0</td>\n",
       "      <td>0.0</td>\n",
       "      <td>1.0</td>\n",
       "      <td>0.0</td>\n",
       "      <td>0.0</td>\n",
       "      <td>americanelectricpower little volatile market b...</td>\n",
       "      <td>6</td>\n",
       "    </tr>\n",
       "    <tr>\n",
       "      <th>3</th>\n",
       "      <td>2018-07-01</td>\n",
       "      <td>$AES</td>\n",
       "      <td>0.0</td>\n",
       "      <td>0.0</td>\n",
       "      <td>0.0</td>\n",
       "      <td>1.0</td>\n",
       "      <td>0.0</td>\n",
       "      <td>bull reason pay attention</td>\n",
       "      <td>4</td>\n",
       "    </tr>\n",
       "    <tr>\n",
       "      <th>4</th>\n",
       "      <td>2018-07-01</td>\n",
       "      <td>$ALXN</td>\n",
       "      <td>1.0</td>\n",
       "      <td>0.0</td>\n",
       "      <td>0.0</td>\n",
       "      <td>0.0</td>\n",
       "      <td>0.0</td>\n",
       "      <td>short interest ratio short float sunshineave</td>\n",
       "      <td>6</td>\n",
       "    </tr>\n",
       "  </tbody>\n",
       "</table>\n",
       "</div>"
      ],
      "text/plain": [
       "    timestamp ticker    0    1    2    3    4  \\\n",
       "0  2018-07-01   $AAL  3.0  0.0  0.0  0.0  0.0   \n",
       "1  2018-07-01  $AAPL  1.0  0.0  7.0  1.0  1.0   \n",
       "2  2018-07-01   $AEP  0.0  0.0  1.0  0.0  0.0   \n",
       "3  2018-07-01   $AES  0.0  0.0  0.0  1.0  0.0   \n",
       "4  2018-07-01  $ALXN  1.0  0.0  0.0  0.0  0.0   \n",
       "\n",
       "                                     stocktwit_tweet  word_count  \n",
       "0  short ratio short float sunshineaveshort volum...          16  \n",
       "1  bush f donald fduckgreat callout morning gjtes...          64  \n",
       "2  americanelectricpower little volatile market b...           6  \n",
       "3                          bull reason pay attention           4  \n",
       "4       short interest ratio short float sunshineave           6  "
      ]
     },
     "execution_count": 52,
     "metadata": {},
     "output_type": "execute_result"
    }
   ],
   "source": [
    "test_json_day['word_count'] = [len(text.split(' ')) for text in test_json_day['stocktwit_tweet']]\n",
    "test_json_day.head()"
   ]
  },
  {
   "cell_type": "code",
   "execution_count": 53,
   "metadata": {},
   "outputs": [
    {
     "data": {
      "text/html": [
       "<div>\n",
       "<style scoped>\n",
       "    .dataframe tbody tr th:only-of-type {\n",
       "        vertical-align: middle;\n",
       "    }\n",
       "\n",
       "    .dataframe tbody tr th {\n",
       "        vertical-align: top;\n",
       "    }\n",
       "\n",
       "    .dataframe thead th {\n",
       "        text-align: right;\n",
       "    }\n",
       "</style>\n",
       "<table border=\"1\" class=\"dataframe\">\n",
       "  <thead>\n",
       "    <tr style=\"text-align: right;\">\n",
       "      <th></th>\n",
       "      <th>date</th>\n",
       "      <th>ticker</th>\n",
       "      <th>senti_0</th>\n",
       "      <th>senti_1</th>\n",
       "      <th>senti_2</th>\n",
       "      <th>senti_3</th>\n",
       "      <th>senti_4</th>\n",
       "      <th>tweet</th>\n",
       "      <th>word_count</th>\n",
       "    </tr>\n",
       "  </thead>\n",
       "  <tbody>\n",
       "    <tr>\n",
       "      <th>0</th>\n",
       "      <td>2018-07-01</td>\n",
       "      <td>$AAL</td>\n",
       "      <td>3.0</td>\n",
       "      <td>0.0</td>\n",
       "      <td>0.0</td>\n",
       "      <td>0.0</td>\n",
       "      <td>0.0</td>\n",
       "      <td>short ratio short float sunshineaveshort volum...</td>\n",
       "      <td>16</td>\n",
       "    </tr>\n",
       "    <tr>\n",
       "      <th>1</th>\n",
       "      <td>2018-07-01</td>\n",
       "      <td>$AAPL</td>\n",
       "      <td>1.0</td>\n",
       "      <td>0.0</td>\n",
       "      <td>7.0</td>\n",
       "      <td>1.0</td>\n",
       "      <td>1.0</td>\n",
       "      <td>bush f donald fduckgreat callout morning gjtes...</td>\n",
       "      <td>64</td>\n",
       "    </tr>\n",
       "  </tbody>\n",
       "</table>\n",
       "</div>"
      ],
      "text/plain": [
       "         date ticker  senti_0  senti_1  senti_2  senti_3  senti_4  \\\n",
       "0  2018-07-01   $AAL      3.0      0.0      0.0      0.0      0.0   \n",
       "1  2018-07-01  $AAPL      1.0      0.0      7.0      1.0      1.0   \n",
       "\n",
       "                                               tweet  word_count  \n",
       "0  short ratio short float sunshineaveshort volum...          16  \n",
       "1  bush f donald fduckgreat callout morning gjtes...          64  "
      ]
     },
     "execution_count": 53,
     "metadata": {},
     "output_type": "execute_result"
    }
   ],
   "source": [
    "test_json_day.columns = ['date','ticker','senti_0','senti_1','senti_2','senti_3','senti_4','tweet','word_count']\n",
    "test_json_day.head(2)"
   ]
  },
  {
   "cell_type": "code",
   "execution_count": 54,
   "metadata": {},
   "outputs": [],
   "source": [
    "test_json_day['Senti_blob'] = test_json_day['tweet'].apply(get_tweet_sentiment)"
   ]
  },
  {
   "cell_type": "code",
   "execution_count": 55,
   "metadata": {},
   "outputs": [],
   "source": [
    "tfidf_temp = tfidf.transform(test_json_day['tweet'])"
   ]
  },
  {
   "cell_type": "code",
   "execution_count": 56,
   "metadata": {},
   "outputs": [],
   "source": [
    "test_json_day['senti_train'] = clf_logreg.predict(tfidf_temp)"
   ]
  },
  {
   "cell_type": "code",
   "execution_count": 57,
   "metadata": {},
   "outputs": [],
   "source": [
    "test_json_day = test_json_day.drop([\"tweet\"], axis = 1)"
   ]
  },
  {
   "cell_type": "code",
   "execution_count": 58,
   "metadata": {},
   "outputs": [
    {
     "data": {
      "text/html": [
       "<div>\n",
       "<style scoped>\n",
       "    .dataframe tbody tr th:only-of-type {\n",
       "        vertical-align: middle;\n",
       "    }\n",
       "\n",
       "    .dataframe tbody tr th {\n",
       "        vertical-align: top;\n",
       "    }\n",
       "\n",
       "    .dataframe thead th {\n",
       "        text-align: right;\n",
       "    }\n",
       "</style>\n",
       "<table border=\"1\" class=\"dataframe\">\n",
       "  <thead>\n",
       "    <tr style=\"text-align: right;\">\n",
       "      <th></th>\n",
       "      <th>date</th>\n",
       "      <th>ticker</th>\n",
       "      <th>senti_0</th>\n",
       "      <th>senti_1</th>\n",
       "      <th>senti_2</th>\n",
       "      <th>senti_3</th>\n",
       "      <th>senti_4</th>\n",
       "      <th>word_count</th>\n",
       "      <th>Senti_blob</th>\n",
       "      <th>senti_train</th>\n",
       "    </tr>\n",
       "  </thead>\n",
       "  <tbody>\n",
       "    <tr>\n",
       "      <th>0</th>\n",
       "      <td>2018-07-01</td>\n",
       "      <td>$AAL</td>\n",
       "      <td>3.0</td>\n",
       "      <td>0.0</td>\n",
       "      <td>0.0</td>\n",
       "      <td>0.0</td>\n",
       "      <td>0.0</td>\n",
       "      <td>16</td>\n",
       "      <td>positive</td>\n",
       "      <td>0</td>\n",
       "    </tr>\n",
       "    <tr>\n",
       "      <th>1</th>\n",
       "      <td>2018-07-01</td>\n",
       "      <td>$AAPL</td>\n",
       "      <td>1.0</td>\n",
       "      <td>0.0</td>\n",
       "      <td>7.0</td>\n",
       "      <td>1.0</td>\n",
       "      <td>1.0</td>\n",
       "      <td>64</td>\n",
       "      <td>negative</td>\n",
       "      <td>4</td>\n",
       "    </tr>\n",
       "  </tbody>\n",
       "</table>\n",
       "</div>"
      ],
      "text/plain": [
       "         date ticker  senti_0  senti_1  senti_2  senti_3  senti_4  word_count  \\\n",
       "0  2018-07-01   $AAL      3.0      0.0      0.0      0.0      0.0          16   \n",
       "1  2018-07-01  $AAPL      1.0      0.0      7.0      1.0      1.0          64   \n",
       "\n",
       "  Senti_blob  senti_train  \n",
       "0   positive            0  \n",
       "1   negative            4  "
      ]
     },
     "execution_count": 58,
     "metadata": {},
     "output_type": "execute_result"
    }
   ],
   "source": [
    "test_json_day.head(2)"
   ]
  },
  {
   "cell_type": "code",
   "execution_count": 59,
   "metadata": {},
   "outputs": [
    {
     "data": {
      "text/plain": [
       "(38373, 10)"
      ]
     },
     "execution_count": 59,
     "metadata": {},
     "output_type": "execute_result"
    }
   ],
   "source": [
    "test_json_day.shape"
   ]
  },
  {
   "cell_type": "markdown",
   "metadata": {},
   "source": [
    "## 5.0 Loading Test_factors CSV file"
   ]
  },
  {
   "cell_type": "code",
   "execution_count": 60,
   "metadata": {},
   "outputs": [
    {
     "data": {
      "text/html": [
       "<div>\n",
       "<style scoped>\n",
       "    .dataframe tbody tr th:only-of-type {\n",
       "        vertical-align: middle;\n",
       "    }\n",
       "\n",
       "    .dataframe tbody tr th {\n",
       "        vertical-align: top;\n",
       "    }\n",
       "\n",
       "    .dataframe thead th {\n",
       "        text-align: right;\n",
       "    }\n",
       "</style>\n",
       "<table border=\"1\" class=\"dataframe\">\n",
       "  <thead>\n",
       "    <tr style=\"text-align: right;\">\n",
       "      <th></th>\n",
       "      <th>Id</th>\n",
       "      <th>date</th>\n",
       "      <th>ticker</th>\n",
       "      <th>SF1</th>\n",
       "      <th>SF2</th>\n",
       "      <th>SF3</th>\n",
       "      <th>SF4</th>\n",
       "      <th>SF5</th>\n",
       "      <th>SF6</th>\n",
       "      <th>SF7</th>\n",
       "    </tr>\n",
       "  </thead>\n",
       "  <tbody>\n",
       "    <tr>\n",
       "      <th>0</th>\n",
       "      <td>270007</td>\n",
       "      <td>21/07/18</td>\n",
       "      <td>$INTC</td>\n",
       "      <td>-3.062194</td>\n",
       "      <td>1.223466</td>\n",
       "      <td>1.741714</td>\n",
       "      <td>2.279266</td>\n",
       "      <td>-1.323573</td>\n",
       "      <td>-0.274912</td>\n",
       "      <td>-4.504449</td>\n",
       "    </tr>\n",
       "    <tr>\n",
       "      <th>1</th>\n",
       "      <td>270008</td>\n",
       "      <td>05/10/18</td>\n",
       "      <td>$CTSH</td>\n",
       "      <td>0.816263</td>\n",
       "      <td>-2.184408</td>\n",
       "      <td>0.157975</td>\n",
       "      <td>-0.264743</td>\n",
       "      <td>-0.836282</td>\n",
       "      <td>0.046276</td>\n",
       "      <td>0.826353</td>\n",
       "    </tr>\n",
       "    <tr>\n",
       "      <th>2</th>\n",
       "      <td>270009</td>\n",
       "      <td>01/10/18</td>\n",
       "      <td>$CB</td>\n",
       "      <td>0.401281</td>\n",
       "      <td>0.091604</td>\n",
       "      <td>0.083411</td>\n",
       "      <td>-1.147041</td>\n",
       "      <td>-0.485223</td>\n",
       "      <td>-0.601060</td>\n",
       "      <td>1.012811</td>\n",
       "    </tr>\n",
       "    <tr>\n",
       "      <th>3</th>\n",
       "      <td>270010</td>\n",
       "      <td>24/10/18</td>\n",
       "      <td>$CTAS</td>\n",
       "      <td>-0.783521</td>\n",
       "      <td>1.192929</td>\n",
       "      <td>0.813831</td>\n",
       "      <td>-0.368166</td>\n",
       "      <td>-1.113656</td>\n",
       "      <td>-0.553581</td>\n",
       "      <td>-0.683803</td>\n",
       "    </tr>\n",
       "    <tr>\n",
       "      <th>4</th>\n",
       "      <td>270011</td>\n",
       "      <td>27/07/18</td>\n",
       "      <td>$intc</td>\n",
       "      <td>0.796507</td>\n",
       "      <td>0.455341</td>\n",
       "      <td>0.679032</td>\n",
       "      <td>0.354336</td>\n",
       "      <td>-1.799055</td>\n",
       "      <td>0.126153</td>\n",
       "      <td>0.297111</td>\n",
       "    </tr>\n",
       "  </tbody>\n",
       "</table>\n",
       "</div>"
      ],
      "text/plain": [
       "       Id      date ticker       SF1       SF2       SF3       SF4       SF5  \\\n",
       "0  270007  21/07/18  $INTC -3.062194  1.223466  1.741714  2.279266 -1.323573   \n",
       "1  270008  05/10/18  $CTSH  0.816263 -2.184408  0.157975 -0.264743 -0.836282   \n",
       "2  270009  01/10/18    $CB  0.401281  0.091604  0.083411 -1.147041 -0.485223   \n",
       "3  270010  24/10/18  $CTAS -0.783521  1.192929  0.813831 -0.368166 -1.113656   \n",
       "4  270011  27/07/18  $intc  0.796507  0.455341  0.679032  0.354336 -1.799055   \n",
       "\n",
       "        SF6       SF7  \n",
       "0 -0.274912 -4.504449  \n",
       "1  0.046276  0.826353  \n",
       "2 -0.601060  1.012811  \n",
       "3 -0.553581 -0.683803  \n",
       "4  0.126153  0.297111  "
      ]
     },
     "execution_count": 60,
     "metadata": {},
     "output_type": "execute_result"
    }
   ],
   "source": [
    "test_fact_act = pd.read_csv(url4,na_values=[' '])\n",
    "test_fact_act.head()"
   ]
  },
  {
   "cell_type": "code",
   "execution_count": 61,
   "metadata": {},
   "outputs": [],
   "source": [
    "#test_fact_act.isna().sum()"
   ]
  },
  {
   "cell_type": "code",
   "execution_count": 62,
   "metadata": {},
   "outputs": [
    {
     "data": {
      "text/html": [
       "<div>\n",
       "<style scoped>\n",
       "    .dataframe tbody tr th:only-of-type {\n",
       "        vertical-align: middle;\n",
       "    }\n",
       "\n",
       "    .dataframe tbody tr th {\n",
       "        vertical-align: top;\n",
       "    }\n",
       "\n",
       "    .dataframe thead th {\n",
       "        text-align: right;\n",
       "    }\n",
       "</style>\n",
       "<table border=\"1\" class=\"dataframe\">\n",
       "  <thead>\n",
       "    <tr style=\"text-align: right;\">\n",
       "      <th></th>\n",
       "      <th>Id</th>\n",
       "      <th>date</th>\n",
       "      <th>ticker</th>\n",
       "      <th>SF1</th>\n",
       "      <th>SF2</th>\n",
       "      <th>SF3</th>\n",
       "      <th>SF4</th>\n",
       "      <th>SF5</th>\n",
       "      <th>SF6</th>\n",
       "      <th>SF7</th>\n",
       "    </tr>\n",
       "  </thead>\n",
       "  <tbody>\n",
       "    <tr>\n",
       "      <th>0</th>\n",
       "      <td>270007</td>\n",
       "      <td>2018-07-21</td>\n",
       "      <td>$INTC</td>\n",
       "      <td>-3.062194</td>\n",
       "      <td>1.223466</td>\n",
       "      <td>1.741714</td>\n",
       "      <td>2.279266</td>\n",
       "      <td>-1.323573</td>\n",
       "      <td>-0.274912</td>\n",
       "      <td>-4.504449</td>\n",
       "    </tr>\n",
       "    <tr>\n",
       "      <th>1</th>\n",
       "      <td>270008</td>\n",
       "      <td>2018-05-10</td>\n",
       "      <td>$CTSH</td>\n",
       "      <td>0.816263</td>\n",
       "      <td>-2.184408</td>\n",
       "      <td>0.157975</td>\n",
       "      <td>-0.264743</td>\n",
       "      <td>-0.836282</td>\n",
       "      <td>0.046276</td>\n",
       "      <td>0.826353</td>\n",
       "    </tr>\n",
       "  </tbody>\n",
       "</table>\n",
       "</div>"
      ],
      "text/plain": [
       "       Id        date ticker       SF1       SF2       SF3       SF4  \\\n",
       "0  270007  2018-07-21  $INTC -3.062194  1.223466  1.741714  2.279266   \n",
       "1  270008  2018-05-10  $CTSH  0.816263 -2.184408  0.157975 -0.264743   \n",
       "\n",
       "        SF5       SF6       SF7  \n",
       "0 -1.323573 -0.274912 -4.504449  \n",
       "1 -0.836282  0.046276  0.826353  "
      ]
     },
     "execution_count": 62,
     "metadata": {},
     "output_type": "execute_result"
    }
   ],
   "source": [
    "test_fact_act['date'] = pd.to_datetime(test_fact_act['date']).dt.date\n",
    "\n",
    "test_fact_act.head(2)"
   ]
  },
  {
   "cell_type": "code",
   "execution_count": 63,
   "metadata": {},
   "outputs": [
    {
     "data": {
      "text/plain": [
       "(11575, 10)"
      ]
     },
     "execution_count": 63,
     "metadata": {},
     "output_type": "execute_result"
    }
   ],
   "source": [
    "test_fact_act.shape"
   ]
  },
  {
   "cell_type": "code",
   "execution_count": 64,
   "metadata": {},
   "outputs": [
    {
     "data": {
      "text/plain": [
       "Index(['Id', 'date', 'ticker', 'SF1', 'SF2', 'SF3', 'SF4', 'SF5', 'SF6',\n",
       "       'SF7'],\n",
       "      dtype='object')"
      ]
     },
     "execution_count": 64,
     "metadata": {},
     "output_type": "execute_result"
    }
   ],
   "source": [
    "test_fact_act.columns"
   ]
  },
  {
   "cell_type": "code",
   "execution_count": 65,
   "metadata": {},
   "outputs": [
    {
     "name": "stdout",
     "output_type": "stream",
     "text": [
      "2018-01-07\n",
      "2018-12-10\n"
     ]
    }
   ],
   "source": [
    "print(test_fact_act[\"date\"].min())\n",
    "print(test_fact_act[\"date\"].max())"
   ]
  },
  {
   "cell_type": "code",
   "execution_count": 66,
   "metadata": {},
   "outputs": [],
   "source": [
    "#Merging the test_json and test_factors\n",
    "test_merged = pd.merge(test_fact_act, test_json_day,  how='left', left_on=['date','ticker'], right_on = ['date','ticker'])"
   ]
  },
  {
   "cell_type": "code",
   "execution_count": 67,
   "metadata": {},
   "outputs": [
    {
     "data": {
      "text/html": [
       "<div>\n",
       "<style scoped>\n",
       "    .dataframe tbody tr th:only-of-type {\n",
       "        vertical-align: middle;\n",
       "    }\n",
       "\n",
       "    .dataframe tbody tr th {\n",
       "        vertical-align: top;\n",
       "    }\n",
       "\n",
       "    .dataframe thead th {\n",
       "        text-align: right;\n",
       "    }\n",
       "</style>\n",
       "<table border=\"1\" class=\"dataframe\">\n",
       "  <thead>\n",
       "    <tr style=\"text-align: right;\">\n",
       "      <th></th>\n",
       "      <th>Id</th>\n",
       "      <th>date</th>\n",
       "      <th>ticker</th>\n",
       "      <th>SF1</th>\n",
       "      <th>SF2</th>\n",
       "      <th>SF3</th>\n",
       "      <th>SF4</th>\n",
       "      <th>SF5</th>\n",
       "      <th>SF6</th>\n",
       "      <th>SF7</th>\n",
       "      <th>senti_0</th>\n",
       "      <th>senti_1</th>\n",
       "      <th>senti_2</th>\n",
       "      <th>senti_3</th>\n",
       "      <th>senti_4</th>\n",
       "      <th>word_count</th>\n",
       "      <th>Senti_blob</th>\n",
       "      <th>senti_train</th>\n",
       "    </tr>\n",
       "  </thead>\n",
       "  <tbody>\n",
       "    <tr>\n",
       "      <th>0</th>\n",
       "      <td>270007</td>\n",
       "      <td>2018-07-21</td>\n",
       "      <td>$INTC</td>\n",
       "      <td>-3.062194</td>\n",
       "      <td>1.223466</td>\n",
       "      <td>1.741714</td>\n",
       "      <td>2.279266</td>\n",
       "      <td>-1.323573</td>\n",
       "      <td>-0.274912</td>\n",
       "      <td>-4.504449</td>\n",
       "      <td>0.0</td>\n",
       "      <td>0.0</td>\n",
       "      <td>1.0</td>\n",
       "      <td>0.0</td>\n",
       "      <td>1.0</td>\n",
       "      <td>5.0</td>\n",
       "      <td>neutral</td>\n",
       "      <td>2.0</td>\n",
       "    </tr>\n",
       "    <tr>\n",
       "      <th>1</th>\n",
       "      <td>270008</td>\n",
       "      <td>2018-05-10</td>\n",
       "      <td>$CTSH</td>\n",
       "      <td>0.816263</td>\n",
       "      <td>-2.184408</td>\n",
       "      <td>0.157975</td>\n",
       "      <td>-0.264743</td>\n",
       "      <td>-0.836282</td>\n",
       "      <td>0.046276</td>\n",
       "      <td>0.826353</td>\n",
       "      <td>NaN</td>\n",
       "      <td>NaN</td>\n",
       "      <td>NaN</td>\n",
       "      <td>NaN</td>\n",
       "      <td>NaN</td>\n",
       "      <td>NaN</td>\n",
       "      <td>NaN</td>\n",
       "      <td>NaN</td>\n",
       "    </tr>\n",
       "    <tr>\n",
       "      <th>2</th>\n",
       "      <td>270009</td>\n",
       "      <td>2018-01-10</td>\n",
       "      <td>$CB</td>\n",
       "      <td>0.401281</td>\n",
       "      <td>0.091604</td>\n",
       "      <td>0.083411</td>\n",
       "      <td>-1.147041</td>\n",
       "      <td>-0.485223</td>\n",
       "      <td>-0.601060</td>\n",
       "      <td>1.012811</td>\n",
       "      <td>NaN</td>\n",
       "      <td>NaN</td>\n",
       "      <td>NaN</td>\n",
       "      <td>NaN</td>\n",
       "      <td>NaN</td>\n",
       "      <td>NaN</td>\n",
       "      <td>NaN</td>\n",
       "      <td>NaN</td>\n",
       "    </tr>\n",
       "    <tr>\n",
       "      <th>3</th>\n",
       "      <td>270010</td>\n",
       "      <td>2018-10-24</td>\n",
       "      <td>$CTAS</td>\n",
       "      <td>-0.783521</td>\n",
       "      <td>1.192929</td>\n",
       "      <td>0.813831</td>\n",
       "      <td>-0.368166</td>\n",
       "      <td>-1.113656</td>\n",
       "      <td>-0.553581</td>\n",
       "      <td>-0.683803</td>\n",
       "      <td>0.0</td>\n",
       "      <td>0.0</td>\n",
       "      <td>1.0</td>\n",
       "      <td>1.0</td>\n",
       "      <td>0.0</td>\n",
       "      <td>15.0</td>\n",
       "      <td>neutral</td>\n",
       "      <td>2.0</td>\n",
       "    </tr>\n",
       "    <tr>\n",
       "      <th>4</th>\n",
       "      <td>270011</td>\n",
       "      <td>2018-07-27</td>\n",
       "      <td>$intc</td>\n",
       "      <td>0.796507</td>\n",
       "      <td>0.455341</td>\n",
       "      <td>0.679032</td>\n",
       "      <td>0.354336</td>\n",
       "      <td>-1.799055</td>\n",
       "      <td>0.126153</td>\n",
       "      <td>0.297111</td>\n",
       "      <td>0.0</td>\n",
       "      <td>0.0</td>\n",
       "      <td>1.0</td>\n",
       "      <td>0.0</td>\n",
       "      <td>2.0</td>\n",
       "      <td>8.0</td>\n",
       "      <td>neutral</td>\n",
       "      <td>2.0</td>\n",
       "    </tr>\n",
       "  </tbody>\n",
       "</table>\n",
       "</div>"
      ],
      "text/plain": [
       "       Id        date ticker       SF1       SF2       SF3       SF4  \\\n",
       "0  270007  2018-07-21  $INTC -3.062194  1.223466  1.741714  2.279266   \n",
       "1  270008  2018-05-10  $CTSH  0.816263 -2.184408  0.157975 -0.264743   \n",
       "2  270009  2018-01-10    $CB  0.401281  0.091604  0.083411 -1.147041   \n",
       "3  270010  2018-10-24  $CTAS -0.783521  1.192929  0.813831 -0.368166   \n",
       "4  270011  2018-07-27  $intc  0.796507  0.455341  0.679032  0.354336   \n",
       "\n",
       "        SF5       SF6       SF7  senti_0  senti_1  senti_2  senti_3  senti_4  \\\n",
       "0 -1.323573 -0.274912 -4.504449      0.0      0.0      1.0      0.0      1.0   \n",
       "1 -0.836282  0.046276  0.826353      NaN      NaN      NaN      NaN      NaN   \n",
       "2 -0.485223 -0.601060  1.012811      NaN      NaN      NaN      NaN      NaN   \n",
       "3 -1.113656 -0.553581 -0.683803      0.0      0.0      1.0      1.0      0.0   \n",
       "4 -1.799055  0.126153  0.297111      0.0      0.0      1.0      0.0      2.0   \n",
       "\n",
       "   word_count Senti_blob  senti_train  \n",
       "0         5.0    neutral          2.0  \n",
       "1         NaN        NaN          NaN  \n",
       "2         NaN        NaN          NaN  \n",
       "3        15.0    neutral          2.0  \n",
       "4         8.0    neutral          2.0  "
      ]
     },
     "execution_count": 67,
     "metadata": {},
     "output_type": "execute_result"
    }
   ],
   "source": [
    "test_merged.head()"
   ]
  },
  {
   "cell_type": "code",
   "execution_count": 68,
   "metadata": {},
   "outputs": [
    {
     "data": {
      "text/plain": [
       "Id                0\n",
       "date              0\n",
       "ticker            0\n",
       "SF1               0\n",
       "SF2               0\n",
       "SF3               0\n",
       "SF4               0\n",
       "SF5               0\n",
       "SF6               0\n",
       "SF7               0\n",
       "senti_0        3623\n",
       "senti_1        3623\n",
       "senti_2        3623\n",
       "senti_3        3623\n",
       "senti_4        3623\n",
       "word_count     3623\n",
       "Senti_blob     3623\n",
       "senti_train    3623\n",
       "dtype: int64"
      ]
     },
     "execution_count": 68,
     "metadata": {},
     "output_type": "execute_result"
    }
   ],
   "source": [
    "test_merged.isna().sum()"
   ]
  },
  {
   "cell_type": "code",
   "execution_count": 69,
   "metadata": {},
   "outputs": [],
   "source": [
    "test_merged['date'] = pd.to_datetime(test_merged['date'])"
   ]
  },
  {
   "cell_type": "code",
   "execution_count": 70,
   "metadata": {},
   "outputs": [
    {
     "data": {
      "text/html": [
       "<div>\n",
       "<style scoped>\n",
       "    .dataframe tbody tr th:only-of-type {\n",
       "        vertical-align: middle;\n",
       "    }\n",
       "\n",
       "    .dataframe tbody tr th {\n",
       "        vertical-align: top;\n",
       "    }\n",
       "\n",
       "    .dataframe thead th {\n",
       "        text-align: right;\n",
       "    }\n",
       "</style>\n",
       "<table border=\"1\" class=\"dataframe\">\n",
       "  <thead>\n",
       "    <tr style=\"text-align: right;\">\n",
       "      <th></th>\n",
       "      <th>Id</th>\n",
       "      <th>date</th>\n",
       "      <th>ticker</th>\n",
       "      <th>SF1</th>\n",
       "      <th>SF2</th>\n",
       "      <th>SF3</th>\n",
       "      <th>SF4</th>\n",
       "      <th>SF5</th>\n",
       "      <th>SF6</th>\n",
       "      <th>SF7</th>\n",
       "      <th>senti_0</th>\n",
       "      <th>senti_1</th>\n",
       "      <th>senti_2</th>\n",
       "      <th>senti_3</th>\n",
       "      <th>senti_4</th>\n",
       "      <th>word_count</th>\n",
       "      <th>Senti_blob</th>\n",
       "      <th>senti_train</th>\n",
       "      <th>tweeted_day_of_week</th>\n",
       "      <th>tweet_month</th>\n",
       "    </tr>\n",
       "  </thead>\n",
       "  <tbody>\n",
       "    <tr>\n",
       "      <th>0</th>\n",
       "      <td>270007</td>\n",
       "      <td>2018-07-21</td>\n",
       "      <td>$INTC</td>\n",
       "      <td>-3.062194</td>\n",
       "      <td>1.223466</td>\n",
       "      <td>1.741714</td>\n",
       "      <td>2.279266</td>\n",
       "      <td>-1.323573</td>\n",
       "      <td>-0.274912</td>\n",
       "      <td>-4.504449</td>\n",
       "      <td>0.0</td>\n",
       "      <td>0.0</td>\n",
       "      <td>1.0</td>\n",
       "      <td>0.0</td>\n",
       "      <td>1.0</td>\n",
       "      <td>5.0</td>\n",
       "      <td>neutral</td>\n",
       "      <td>2.0</td>\n",
       "      <td>Saturday</td>\n",
       "      <td>July</td>\n",
       "    </tr>\n",
       "    <tr>\n",
       "      <th>1</th>\n",
       "      <td>270008</td>\n",
       "      <td>2018-05-10</td>\n",
       "      <td>$CTSH</td>\n",
       "      <td>0.816263</td>\n",
       "      <td>-2.184408</td>\n",
       "      <td>0.157975</td>\n",
       "      <td>-0.264743</td>\n",
       "      <td>-0.836282</td>\n",
       "      <td>0.046276</td>\n",
       "      <td>0.826353</td>\n",
       "      <td>NaN</td>\n",
       "      <td>NaN</td>\n",
       "      <td>NaN</td>\n",
       "      <td>NaN</td>\n",
       "      <td>NaN</td>\n",
       "      <td>NaN</td>\n",
       "      <td>NaN</td>\n",
       "      <td>NaN</td>\n",
       "      <td>Thursday</td>\n",
       "      <td>May</td>\n",
       "    </tr>\n",
       "    <tr>\n",
       "      <th>2</th>\n",
       "      <td>270009</td>\n",
       "      <td>2018-01-10</td>\n",
       "      <td>$CB</td>\n",
       "      <td>0.401281</td>\n",
       "      <td>0.091604</td>\n",
       "      <td>0.083411</td>\n",
       "      <td>-1.147041</td>\n",
       "      <td>-0.485223</td>\n",
       "      <td>-0.601060</td>\n",
       "      <td>1.012811</td>\n",
       "      <td>NaN</td>\n",
       "      <td>NaN</td>\n",
       "      <td>NaN</td>\n",
       "      <td>NaN</td>\n",
       "      <td>NaN</td>\n",
       "      <td>NaN</td>\n",
       "      <td>NaN</td>\n",
       "      <td>NaN</td>\n",
       "      <td>Wednesday</td>\n",
       "      <td>January</td>\n",
       "    </tr>\n",
       "    <tr>\n",
       "      <th>3</th>\n",
       "      <td>270010</td>\n",
       "      <td>2018-10-24</td>\n",
       "      <td>$CTAS</td>\n",
       "      <td>-0.783521</td>\n",
       "      <td>1.192929</td>\n",
       "      <td>0.813831</td>\n",
       "      <td>-0.368166</td>\n",
       "      <td>-1.113656</td>\n",
       "      <td>-0.553581</td>\n",
       "      <td>-0.683803</td>\n",
       "      <td>0.0</td>\n",
       "      <td>0.0</td>\n",
       "      <td>1.0</td>\n",
       "      <td>1.0</td>\n",
       "      <td>0.0</td>\n",
       "      <td>15.0</td>\n",
       "      <td>neutral</td>\n",
       "      <td>2.0</td>\n",
       "      <td>Wednesday</td>\n",
       "      <td>October</td>\n",
       "    </tr>\n",
       "    <tr>\n",
       "      <th>4</th>\n",
       "      <td>270011</td>\n",
       "      <td>2018-07-27</td>\n",
       "      <td>$intc</td>\n",
       "      <td>0.796507</td>\n",
       "      <td>0.455341</td>\n",
       "      <td>0.679032</td>\n",
       "      <td>0.354336</td>\n",
       "      <td>-1.799055</td>\n",
       "      <td>0.126153</td>\n",
       "      <td>0.297111</td>\n",
       "      <td>0.0</td>\n",
       "      <td>0.0</td>\n",
       "      <td>1.0</td>\n",
       "      <td>0.0</td>\n",
       "      <td>2.0</td>\n",
       "      <td>8.0</td>\n",
       "      <td>neutral</td>\n",
       "      <td>2.0</td>\n",
       "      <td>Friday</td>\n",
       "      <td>July</td>\n",
       "    </tr>\n",
       "  </tbody>\n",
       "</table>\n",
       "</div>"
      ],
      "text/plain": [
       "       Id       date ticker       SF1       SF2       SF3       SF4       SF5  \\\n",
       "0  270007 2018-07-21  $INTC -3.062194  1.223466  1.741714  2.279266 -1.323573   \n",
       "1  270008 2018-05-10  $CTSH  0.816263 -2.184408  0.157975 -0.264743 -0.836282   \n",
       "2  270009 2018-01-10    $CB  0.401281  0.091604  0.083411 -1.147041 -0.485223   \n",
       "3  270010 2018-10-24  $CTAS -0.783521  1.192929  0.813831 -0.368166 -1.113656   \n",
       "4  270011 2018-07-27  $intc  0.796507  0.455341  0.679032  0.354336 -1.799055   \n",
       "\n",
       "        SF6       SF7  senti_0  senti_1  senti_2  senti_3  senti_4  \\\n",
       "0 -0.274912 -4.504449      0.0      0.0      1.0      0.0      1.0   \n",
       "1  0.046276  0.826353      NaN      NaN      NaN      NaN      NaN   \n",
       "2 -0.601060  1.012811      NaN      NaN      NaN      NaN      NaN   \n",
       "3 -0.553581 -0.683803      0.0      0.0      1.0      1.0      0.0   \n",
       "4  0.126153  0.297111      0.0      0.0      1.0      0.0      2.0   \n",
       "\n",
       "   word_count Senti_blob  senti_train tweeted_day_of_week tweet_month  \n",
       "0         5.0    neutral          2.0            Saturday        July  \n",
       "1         NaN        NaN          NaN            Thursday         May  \n",
       "2         NaN        NaN          NaN           Wednesday     January  \n",
       "3        15.0    neutral          2.0           Wednesday     October  \n",
       "4         8.0    neutral          2.0              Friday        July  "
      ]
     },
     "execution_count": 70,
     "metadata": {},
     "output_type": "execute_result"
    }
   ],
   "source": [
    "test_merged['tweeted_day_of_week'] = test_merged['date'].dt.weekday_name\n",
    "test_merged['tweet_month'] = test_merged['date'].dt.month_name()\n",
    "test_merged.head()"
   ]
  },
  {
   "cell_type": "code",
   "execution_count": 71,
   "metadata": {},
   "outputs": [],
   "source": [
    "#writing the file to be used for final prediction in another kernel\n",
    "test_merged.to_csv(\"test_data_merged_25.csv\")"
   ]
  }
 ],
 "metadata": {
  "kernelspec": {
   "display_name": "Python 3",
   "language": "python",
   "name": "python3"
  },
  "language_info": {
   "codemirror_mode": {
    "name": "ipython",
    "version": 3
   },
   "file_extension": ".py",
   "mimetype": "text/x-python",
   "name": "python",
   "nbconvert_exporter": "python",
   "pygments_lexer": "ipython3",
   "version": "3.6.8"
  }
 },
 "nbformat": 4,
 "nbformat_minor": 1
}
